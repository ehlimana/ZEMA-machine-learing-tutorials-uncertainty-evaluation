{
 "cells": [
  {
   "cell_type": "markdown",
   "metadata": {
    "slideshow": {
     "slide_type": "-"
    }
   },
   "source": [
    "# Methods for Feature Selection\n"
   ]
  },
  {
   "cell_type": "markdown",
   "metadata": {},
   "source": [
    "*Before usage of this notebook, please download folder from this link https://drive.google.com/open?id=1Eme87KqRZx8-sANpoHeCIOOWcSRYsMLy\n",
    "and store the files in the same folder which is location for this notebook.*    "
   ]
  },
  {
   "cell_type": "markdown",
   "metadata": {
    "slideshow": {
     "slide_type": "-"
    }
   },
   "source": [
    "### Importing the data "
   ]
  },
  {
   "cell_type": "code",
   "execution_count": 1,
   "metadata": {},
   "outputs": [
    {
     "name": "stderr",
     "output_type": "stream",
     "text": [
      "C:\\Users\\Ehlimana\\Anaconda3\\envs\\ZEMA\\lib\\site-packages\\PyDynamic\\identification\\fit_filter.py:34: DeprecationWarning: The module *identification* will be combined with the module *deconvolution* and renamed to *model_estimation* in the next major release 3.0. From then on you should only use the new module *model_estimation* instead.\n",
      "  DeprecationWarning)\n"
     ]
    }
   ],
   "source": [
    "import h5py                                     # Importing the h5 package.\n",
    "import numpy as np\n",
    "import pandas as pd\n",
    "import matplotlib.pyplot as plt\n",
    "\n",
    "import PyDynamic  \n"
   ]
  },
  {
   "cell_type": "code",
   "execution_count": 2,
   "metadata": {},
   "outputs": [
    {
     "data": {
      "text/plain": [
       "'1.2.79'"
      ]
     },
     "execution_count": 2,
     "metadata": {},
     "output_type": "execute_result"
    }
   ],
   "source": [
    "from PyDynamic import __version__ as version\n",
    "version"
   ]
  },
  {
   "cell_type": "code",
   "execution_count": 3,
   "metadata": {},
   "outputs": [
    {
     "name": "stdout",
     "output_type": "stream",
     "text": [
      "    \n",
      "    Input matrices have dimensions: (2000, 6291), where 2000 represents number of measurements in time\n",
      "    and 6291 represents number of cycles.\n"
     ]
    }
   ],
   "source": [
    "filename = 'Sensor_data_2kHz.h5'                # Data filename.\n",
    "f = h5py.File(filename, 'r')                    # Importing the h5 file. \n",
    "\n",
    "#print(\"Keys: %s\" % f.keys())\n",
    "a_group_key = list(f.keys())[0]\n",
    "\n",
    "data = list(f[a_group_key])                     # Transforming data into list\n",
    "\n",
    "sensorADC=[]                                       # Initialising a list \"sensor\" and\n",
    "for i in range(11):                                # Filling it with data from all sensors \n",
    "    sensorADC.append(pd.DataFrame(data[i][:][:]))\n",
    "\n",
    "for i in range(11):                             \n",
    "    sensorADC[i]=sensorADC[i].iloc[:,:6291]           # Cuting the last cycle because it contains all zero elements.\n",
    "\n",
    "print(\"\"\"    \n",
    "    Input matrices have dimensions: %s, where %s represents number of measurements in time\n",
    "    and %s represents number of cycles.\"\"\" % (np.shape(sensorADC[0]),np.shape(sensorADC[0])[0],np.shape(sensorADC[0])[1]))"
   ]
  },
  {
   "cell_type": "markdown",
   "metadata": {},
   "source": [
    "### Converting into SI units "
   ]
  },
  {
   "cell_type": "code",
   "execution_count": 4,
   "metadata": {},
   "outputs": [],
   "source": [
    "offset=[0, 0, 0, 0, 0.00488591, 0.00488591, 0.00488591,  0.00488591, 1.36e-2, 1.5e-2, 1.09e-2]\n",
    "gain=[5.36e-9, 5.36e-9, 5.36e-9, 5.36e-9, 3.29e-4, 3.29e-4, 3.29e-4, 3.29e-4, 8.76e-5, 8.68e-5, 8.65e-5]\n",
    "b=[1, 1, 1, 1, 1, 1, 1, 1, 5.299641744, 5.299641744, 5.299641744]\n",
    "k=[250, 1, 10, 10, 1.25, 1, 30, 0.5, 2, 2, 2]\n",
    "units=['[Pa]', '[g]', '[g]', '[g]', '[kN]', '[bar]', '[mm/s]', '[A]', '[A]', '[A]', '[A]']\n",
    "\n",
    "sensor=[0]*len(sensorADC)\n",
    "\n",
    "for i in range(len(sensorADC)):\n",
    "    sensor[i]=((sensorADC[i]*gain[i])+offset[i])*b[i]*k[i]\n"
   ]
  },
  {
   "cell_type": "markdown",
   "metadata": {},
   "source": [
    "###### If you have problems with previous step, you can skip conversion into SI units by runing next cell."
   ]
  },
  {
   "cell_type": "code",
   "execution_count": 5,
   "metadata": {},
   "outputs": [],
   "source": [
    "sensor=sensorADC"
   ]
  },
  {
   "cell_type": "markdown",
   "metadata": {},
   "source": [
    "### Reading of train and test data\n",
    "*Note: see 2_Machine_Learning_using_Best_Fourier_Coefficients.ipynb. Data were split into train and test data for k=85% \n",
    "Based on this, target_train_vector and target_test_vector were provided. These vectors will be used for FFT and DFT methods.*"
   ]
  },
  {
   "cell_type": "code",
   "execution_count": 48,
   "metadata": {},
   "outputs": [],
   "source": [
    "import os\n",
    "import h5py\n",
    "\n",
    "train_test1= h5py.File(\"Train_test_data_split\",\"r\")\n"
   ]
  },
  {
   "cell_type": "code",
   "execution_count": 49,
   "metadata": {},
   "outputs": [],
   "source": [
    "target_train_vector=train_test1[\"target_train_vector\"]\n",
    "target_test_vector=train_test1[\"target_test_vector\"]\n"
   ]
  },
  {
   "cell_type": "markdown",
   "metadata": {},
   "source": [
    "Converting arrays into data frames:"
   ]
  },
  {
   "cell_type": "code",
   "execution_count": 50,
   "metadata": {},
   "outputs": [],
   "source": [
    "target_train_vector=pd.DataFrame(target_train_vector)\n",
    "target_test_vector=pd.DataFrame(target_test_vector)"
   ]
  },
  {
   "cell_type": "code",
   "execution_count": 51,
   "metadata": {},
   "outputs": [],
   "source": [
    "target=list(target_train_vector[0])"
   ]
  },
  {
   "cell_type": "markdown",
   "metadata": {},
   "source": [
    "So, after this step main data to work on are lists: \n",
    "\n",
    "\"sensor_train\" with their class labels \"train_target\"\n",
    " \n",
    "and \n",
    " \n",
    "\"sensor_test\" with their class labels \"test_target\""
   ]
  },
  {
   "cell_type": "code",
   "execution_count": 52,
   "metadata": {},
   "outputs": [
    {
     "name": "stdout",
     "output_type": "stream",
     "text": [
      "Traning data for one sensor has dimensions:  (2000, 5347) ,      ('sensor_train') \n",
      "and it's target vector has length:  (5347, 1) ,               ('target_train_vector') \n",
      "\n",
      "Testing data for one sensor has dimensions:  (2000, 944) ,      ('sensor_test') \n",
      "and it's target vector has length:  (944, 1) ,        ('target_test_vector') \n",
      "\n"
     ]
    }
   ],
   "source": [
    "sensor_train=[0]*11\n",
    "sensor_test=[0]*11\n",
    "\n",
    "for i in range(11):\n",
    "    sensor_train[i]=sensor[i].loc[:,target_train_vector.index]\n",
    "\n",
    "print(\"Traning data for one sensor has dimensions: \", sensor_train[10].shape,\",      ('sensor_train') \")\n",
    "print(\"and it's target vector has length: \", target_train_vector.shape,\",               ('target_train_vector') \\n\")\n",
    "\n",
    "for i in range(11):\n",
    "    sensor_test[i]=sensor[i].loc[:,target_test_vector.index]\n",
    "\n",
    "print(\"Testing data for one sensor has dimensions: \", sensor_test[10].shape,\",      ('sensor_test') \")\n",
    "print(\"and it's target vector has length: \", target_test_vector.shape,\",        ('target_test_vector') \\n\")"
   ]
  },
  {
   "cell_type": "markdown",
   "metadata": {},
   "source": [
    "We can have a look at the data from one sensor after splitting for better understanding of structure for next steps. Number of rows is 2000 and each column is one random measurement cycle. Table shows only first five samples in time (five rows) for each cycle. "
   ]
  },
  {
   "cell_type": "code",
   "execution_count": 53,
   "metadata": {},
   "outputs": [
    {
     "data": {
      "text/html": [
       "<div>\n",
       "<style scoped>\n",
       "    .dataframe tbody tr th:only-of-type {\n",
       "        vertical-align: middle;\n",
       "    }\n",
       "\n",
       "    .dataframe tbody tr th {\n",
       "        vertical-align: top;\n",
       "    }\n",
       "\n",
       "    .dataframe thead th {\n",
       "        text-align: right;\n",
       "    }\n",
       "</style>\n",
       "<table border=\"1\" class=\"dataframe\">\n",
       "  <thead>\n",
       "    <tr style=\"text-align: right;\">\n",
       "      <th></th>\n",
       "      <th>0</th>\n",
       "      <th>1</th>\n",
       "      <th>2</th>\n",
       "      <th>3</th>\n",
       "      <th>4</th>\n",
       "      <th>5</th>\n",
       "      <th>6</th>\n",
       "      <th>7</th>\n",
       "      <th>8</th>\n",
       "      <th>9</th>\n",
       "      <th>...</th>\n",
       "      <th>5337</th>\n",
       "      <th>5338</th>\n",
       "      <th>5339</th>\n",
       "      <th>5340</th>\n",
       "      <th>5341</th>\n",
       "      <th>5342</th>\n",
       "      <th>5343</th>\n",
       "      <th>5344</th>\n",
       "      <th>5345</th>\n",
       "      <th>5346</th>\n",
       "    </tr>\n",
       "  </thead>\n",
       "  <tbody>\n",
       "    <tr>\n",
       "      <th>0</th>\n",
       "      <td>-0.052346</td>\n",
       "      <td>0.035353</td>\n",
       "      <td>0.150057</td>\n",
       "      <td>0.165182</td>\n",
       "      <td>0.007607</td>\n",
       "      <td>0.085452</td>\n",
       "      <td>-0.004497</td>\n",
       "      <td>-0.015737</td>\n",
       "      <td>0.004307</td>\n",
       "      <td>0.030425</td>\n",
       "      <td>...</td>\n",
       "      <td>-0.175565</td>\n",
       "      <td>0.329240</td>\n",
       "      <td>0.210907</td>\n",
       "      <td>0.184818</td>\n",
       "      <td>0.050059</td>\n",
       "      <td>0.108024</td>\n",
       "      <td>0.142261</td>\n",
       "      <td>0.358908</td>\n",
       "      <td>0.161659</td>\n",
       "      <td>0.362495</td>\n",
       "    </tr>\n",
       "    <tr>\n",
       "      <th>1</th>\n",
       "      <td>0.013661</td>\n",
       "      <td>0.062294</td>\n",
       "      <td>0.073791</td>\n",
       "      <td>0.002720</td>\n",
       "      <td>0.045830</td>\n",
       "      <td>0.097229</td>\n",
       "      <td>0.054530</td>\n",
       "      <td>0.065786</td>\n",
       "      <td>0.283926</td>\n",
       "      <td>0.108324</td>\n",
       "      <td>...</td>\n",
       "      <td>-0.218415</td>\n",
       "      <td>0.447456</td>\n",
       "      <td>0.349365</td>\n",
       "      <td>0.299143</td>\n",
       "      <td>0.048282</td>\n",
       "      <td>0.207124</td>\n",
       "      <td>0.431144</td>\n",
       "      <td>0.638964</td>\n",
       "      <td>0.378436</td>\n",
       "      <td>0.698642</td>\n",
       "    </tr>\n",
       "    <tr>\n",
       "      <th>2</th>\n",
       "      <td>0.088680</td>\n",
       "      <td>-0.157930</td>\n",
       "      <td>0.016507</td>\n",
       "      <td>0.020354</td>\n",
       "      <td>0.090973</td>\n",
       "      <td>-0.215526</td>\n",
       "      <td>0.061279</td>\n",
       "      <td>0.034248</td>\n",
       "      <td>0.184389</td>\n",
       "      <td>0.141985</td>\n",
       "      <td>...</td>\n",
       "      <td>-0.369747</td>\n",
       "      <td>0.213356</td>\n",
       "      <td>0.078377</td>\n",
       "      <td>0.058016</td>\n",
       "      <td>-0.075154</td>\n",
       "      <td>0.073886</td>\n",
       "      <td>0.393118</td>\n",
       "      <td>0.545816</td>\n",
       "      <td>0.170193</td>\n",
       "      <td>0.216192</td>\n",
       "    </tr>\n",
       "    <tr>\n",
       "      <th>3</th>\n",
       "      <td>0.040834</td>\n",
       "      <td>-0.081864</td>\n",
       "      <td>0.264404</td>\n",
       "      <td>0.090820</td>\n",
       "      <td>0.189913</td>\n",
       "      <td>0.068431</td>\n",
       "      <td>-0.101957</td>\n",
       "      <td>0.105077</td>\n",
       "      <td>0.037419</td>\n",
       "      <td>0.232769</td>\n",
       "      <td>...</td>\n",
       "      <td>0.012711</td>\n",
       "      <td>0.306476</td>\n",
       "      <td>0.201671</td>\n",
       "      <td>0.298681</td>\n",
       "      <td>0.069645</td>\n",
       "      <td>0.011811</td>\n",
       "      <td>0.371483</td>\n",
       "      <td>0.673113</td>\n",
       "      <td>0.286716</td>\n",
       "      <td>0.490413</td>\n",
       "    </tr>\n",
       "    <tr>\n",
       "      <th>4</th>\n",
       "      <td>0.033578</td>\n",
       "      <td>-0.044107</td>\n",
       "      <td>0.056629</td>\n",
       "      <td>0.022157</td>\n",
       "      <td>0.091190</td>\n",
       "      <td>-0.215849</td>\n",
       "      <td>-0.147002</td>\n",
       "      <td>0.120792</td>\n",
       "      <td>0.155922</td>\n",
       "      <td>0.038234</td>\n",
       "      <td>...</td>\n",
       "      <td>-0.026665</td>\n",
       "      <td>0.382832</td>\n",
       "      <td>0.299239</td>\n",
       "      <td>0.259937</td>\n",
       "      <td>0.135226</td>\n",
       "      <td>0.151655</td>\n",
       "      <td>0.500641</td>\n",
       "      <td>0.763004</td>\n",
       "      <td>0.247051</td>\n",
       "      <td>0.542166</td>\n",
       "    </tr>\n",
       "  </tbody>\n",
       "</table>\n",
       "<p>5 rows × 5347 columns</p>\n",
       "</div>"
      ],
      "text/plain": [
       "       0         1         2         3         4         5         6     \\\n",
       "0 -0.052346  0.035353  0.150057  0.165182  0.007607  0.085452 -0.004497   \n",
       "1  0.013661  0.062294  0.073791  0.002720  0.045830  0.097229  0.054530   \n",
       "2  0.088680 -0.157930  0.016507  0.020354  0.090973 -0.215526  0.061279   \n",
       "3  0.040834 -0.081864  0.264404  0.090820  0.189913  0.068431 -0.101957   \n",
       "4  0.033578 -0.044107  0.056629  0.022157  0.091190 -0.215849 -0.147002   \n",
       "\n",
       "       7         8         9     ...      5337      5338      5339      5340  \\\n",
       "0 -0.015737  0.004307  0.030425  ... -0.175565  0.329240  0.210907  0.184818   \n",
       "1  0.065786  0.283926  0.108324  ... -0.218415  0.447456  0.349365  0.299143   \n",
       "2  0.034248  0.184389  0.141985  ... -0.369747  0.213356  0.078377  0.058016   \n",
       "3  0.105077  0.037419  0.232769  ...  0.012711  0.306476  0.201671  0.298681   \n",
       "4  0.120792  0.155922  0.038234  ... -0.026665  0.382832  0.299239  0.259937   \n",
       "\n",
       "       5341      5342      5343      5344      5345      5346  \n",
       "0  0.050059  0.108024  0.142261  0.358908  0.161659  0.362495  \n",
       "1  0.048282  0.207124  0.431144  0.638964  0.378436  0.698642  \n",
       "2 -0.075154  0.073886  0.393118  0.545816  0.170193  0.216192  \n",
       "3  0.069645  0.011811  0.371483  0.673113  0.286716  0.490413  \n",
       "4  0.135226  0.151655  0.500641  0.763004  0.247051  0.542166  \n",
       "\n",
       "[5 rows x 5347 columns]"
      ]
     },
     "execution_count": 53,
     "metadata": {},
     "output_type": "execute_result"
    }
   ],
   "source": [
    "sensor_train[0].head()"
   ]
  },
  {
   "cell_type": "markdown",
   "metadata": {},
   "source": [
    "## Feature selection \n",
    "### Feature selection using Pearson correlation coefficients\n",
    "\n",
    "After all these unsupervised steps, this step is done with knowledge of cycle‘s group affiliation. Selection is based on a target vector which represents label for each cycle. The method is very simple, Pearson correlation coefficient is calculated between selected features and target vector and it is done for all sensors. After that, number of features with overall highest Pearson correlation coefficients is selected.\n",
    "\n",
    "#### Pearson correlation\n",
    "\n",
    "A Pearson correlation is a number between -1 and 1 that indicates the extent to which two variables are linearly related. A correlation coefficient indicates the extent to which dots in a scatterplot lie on a straight line. The stronger the association of the two variables, the closer the Pearson correlation coefficient, r, will be to either +1 or -1 depending on whether the relationship is positive or negative, respectively.\n",
    "\n",
    "_Pearson correlation formula [3]:_\n",
    "\n",
    "<img src=\"pictures/formula1.png\">\n",
    "\n",
    "- $x$ and $y$ are two vectors of length n\n",
    "- $m_x$ and $m_y$ corresponds to the means of x and y, respectively.\n",
    "\n",
    "Different relationships and their correlation coefficients are shown in the figure below [4]:\n",
    "\n",
    "<img src=\"pictures/Correlation_examples.png\">\n",
    "\n",
    "Firstly, correlation coefficients are calculated for all features and their values are stored in the list `corr`. Then, function called `largest_indices` finds indices for wanted amount of features with highest correlation coefficients. Function output is stored into lists 'sensor_n' and 'feature_n', where element in 'sensor_n' means which sensor, and related element in 'feature_n' means which feature of that sensor is accessed.\n",
    "\n",
    "Example:\n",
    "If element in 'sensor_n' is 5, and the element in 'feature_n' at the same position is 50, that means that you can access that feature in this way:\n",
    "\n",
    "``` python\n",
    "    sorted_values_from_all_sensors[5].iloc[:][50]\n",
    "```\n"
   ]
  },
  {
   "cell_type": "markdown",
   "metadata": {},
   "source": [
    "*Reading the data for 10% of the highest amplitudes from the file Machine_Learning_using_Best_Fourier_Coefficients.ipynb calculated from FFT:\n",
    "Values were obtained by using factor of splitting data into train and test from the above.*"
   ]
  },
  {
   "cell_type": "code",
   "execution_count": 54,
   "metadata": {},
   "outputs": [],
   "source": [
    "import os\n",
    "import h5py\n",
    "\n",
    "amp_fft1= h5py.File(\"Sorted_vaules_from_all_sensors.hdf5\",\"r\")\n",
    "freq_fft1= h5py.File(\"Sorted_freq_from_all_sensors.hdf5\",\"r\")    \n",
    "\n"
   ]
  },
  {
   "cell_type": "code",
   "execution_count": 55,
   "metadata": {},
   "outputs": [],
   "source": [
    "freq_of_sorted_values=[0]*len(sensor_train)\n",
    "sorted_values_from_all_sensors=[0]*len(sensor_train)\n",
    "for i in range(len(sensor)):\n",
    "    freq_of_sorted_values[i]=freq_fft1[\"freq_of_sorted_values\"+str(i)]\n",
    "    sorted_values_from_all_sensors[i]=amp_fft1[\"sorted_values_from_all_sensors\"+str(i)]\n",
    "\n",
    "    "
   ]
  },
  {
   "cell_type": "markdown",
   "metadata": {},
   "source": [
    "Results provided from FFT do not contain uncertainties. First method analyzed for the feature selection is Pearson correlation performed on these data."
   ]
  },
  {
   "cell_type": "code",
   "execution_count": 56,
   "metadata": {},
   "outputs": [],
   "source": [
    "from scipy.stats import pearsonr\n",
    "def Pearson_corr(sorted_values,N,n_of_samples):\n",
    "    corr=list(range(len(sorted_values)))                      # Making list for correlation coefficients.\n",
    "    p_value=list(range(len(sorted_values)))\n",
    "\n",
    "    for j in range(len(sorted_values)):                       # Making sublists in \"corr\" for each sensor.\n",
    "        corr[j]=list(range(round((N/100.0)*n_of_samples/2)))\n",
    "        p_value[j]=list(range(round((N/100.0)*n_of_samples/2)))\n",
    "    \n",
    "    # Calculating correlation coefficients for each column of each sensor with respect to target.\n",
    "    for j in range(11):\n",
    "        for i in range(round((N/100.0)*n_of_samples/2)):\n",
    "            corr[j][i],p_value[j][i]=pearsonr(np.abs(sorted_values[j][:,i]),target_train_vector[0])\n",
    "\n",
    "    #matrix_corr_coeff = np.transpose(pd.DataFrame(corr))# Transforming list of correlation coefficients to data frame.\n",
    "    corr_array=np.array(corr)                                   # Transforming list of correlation coefficients to nparray\n",
    "\n",
    "    \n",
    "    return corr_array\n"
   ]
  },
  {
   "cell_type": "code",
   "execution_count": 57,
   "metadata": {},
   "outputs": [],
   "source": [
    "def largest_indices(array, n):                               # Function that find indices for 500 biggest Pearson-\n",
    "    \"\"\"Returns the n largest indices from a numpy array.\"\"\"  # -correlation coefficients.\n",
    "    flat = array.flatten()\n",
    "    indices = np.argpartition(flat, -n)[-n:]\n",
    "    indices = indices[np.argsort(-flat[indices])]\n",
    "    return np.unravel_index(indices, array.shape)  \n"
   ]
  },
  {
   "cell_type": "code",
   "execution_count": 58,
   "metadata": {},
   "outputs": [
    {
     "name": "stdout",
     "output_type": "stream",
     "text": [
      "How many features out of 1100 you want to select (recommended is 500): 500\n",
      "\n",
      "Dimension of target matrix is:\n",
      "                                                  (5347, 1)\n",
      "Dimension of amplitude matrix for one sensor is:\n",
      "                                                  (5347, 100)\n",
      "Array of correlation coefficients has size:\n",
      "                                                  (11, 100)\n",
      "Sensor indices of location of features in >sorted_values_from_all_sensors< matrix: \n",
      "\n",
      "[ 7 10 10  8  8  2  9  0  0  1  0  7  2  3  2  9  2  3  5  3  1  3  7  3\n",
      "  3  3  9 10  0  5  7  0  0  0  0  2  3  0  2  0  9  3  3  2  7  3  3  3\n",
      "  3  0  0  3  3  3  3  0  3  2  0  3  2  3  3  0  2  3  9  2  2  0  2  0\n",
      "  8  2  0 10  2  7  2  3  3  2  2  0  3  3  3  3  1  8  3  0  2  3  1  2\n",
      "  3  3  2  9  3  3  0  3  0  3  8 10 10  0  2  3  2  3  3  3  3  0  7  3\n",
      "  1  0  3  0  3  0  3  9 10  2  7  0  1  3  1 10  3  2  9  3  7  0  5  9\n",
      "  1 10 10  2  2  2  1 10  7  2  2  3  7  8  2  2  8  9  2  2  2  2  2  2\n",
      "  0  2  0 10  1  1  2  2  7  7  0  3  2  0  0  2  2  0  3  0  0  2  2  7\n",
      "  1  3  2  1  0  7  0  7  3  2  2  2  0  2  8  2  2  3  2  9  0  0  2  7\n",
      "  2  2  0  0  2  5  3  0  8  7  8  2  0  0  2  3  2  2  7  9  2 10  0  7\n",
      " 10  0  2  0  2  3  0  2  0  0  0  7  2  7  2  7  9  2  0  1  3  2  7  7\n",
      "  7  0  1  7  2  7  3  7  3  7  3  7  7  7  0  7  7  7  0  1  3  1  9  0\n",
      "  3  3  7  8  7  7  5  0  3 10  7  7  0  7  0  7  0  0 10  3  7  1  7  7\n",
      "  7  7  0  7  7  7  2  7  2  7  7 10  7  9  1  8  3  1  9  0  8 10  9  3\n",
      "  7  7  2  0  7 10 10  9  1  7  7  1  4  1  8  3 10  8  1  9  9 10  0  0\n",
      "  9  6  1 10  9  0  9  7 10  3  9  1  7  8  9  0  2 10 10  1  9  1  2  1\n",
      "  9 10  1 10  8  9  7  9  9  9  8  7  9  6  3  9  8  7  8  7  8  8 10  7\n",
      "  2  8 10  8 10  9  8  8  5  9  0  1  8 10  1 10 10 10  3  7  6 10  0  0\n",
      "  8  9  8 10  8  8 10 10  1  9  9  9  8  7  9 10  9  8  8  8 10  8  9 10\n",
      "  3  8  8  1  3  8  8  8  7  6  1  1  4 10  7 10  3  6  0  4  8  4  0  1\n",
      "  9  9 10  3  2  8  4  2  8 10  8  8  1  8  8  8  9  7  8  2]\n",
      "\n",
      "Column indices of location of features in >sorted_values_from_all_sensors< matrix: \n",
      "\n",
      "[27 44 41 60 82 25 73  1 18  2 78 14 98 80 97  2 17  2 12 26  0 36 47 30\n",
      " 40 23 17  6 52 13  8 59 53 67 95 74 24 56 41 96 37 56  4 33 62  7  1 43\n",
      " 72 61 50 64 47 60 87 43 58 81 44  6 35 88 97 40 56 78 66 85 69 41 12 45\n",
      " 37 51 14 24 42 35 22 25 15 52 71 51 18 86  5 77 37 41 73 60 34  9 16 72\n",
      " 14 12 88 44 98 20 93 22  3 32 11 34 87 36 68 45  7 19 82 16 17 39 87 13\n",
      "  4 58 68 37 28 47 10 71  2 75 67 86 20 11 15 91 62 82 80 33 53 25 10  1\n",
      " 59  1 73 84 43 10 50 50 11 19 32 34  1 25 31 94  1 25 92 60 83 29 26 61\n",
      " 35 30 27 26 31 44 13 59 69 78 11 44 67 21 15 55 95 76 53 57  0 20 73 10\n",
      "  8 52 21 65  6 58 34 36 69 48 62 63 26 38 28 79 53 92 86 21 77 66 49 13\n",
      " 27 44  9 99 39  8  8 20 90 90 20 77 32 23 89 41 46 40 70 28 54 30 48 38\n",
      " 22 31 50  8 76 37 68 57 81 82 38 73 70 97 66 98 16 47 22 13 29 58 79 34\n",
      " 84 80 28 43 45 32  3 52 49 56 74 28 37 92 83  9 44 83 85 78 31  1 92 72\n",
      " 65 76 49 19 46 41  7 55 89 65 72 48 92 50 65 31 28 30 18 59 59 52 86 25\n",
      " 22 94 49 95 89 39 91 91 65 77 23 35 85 29 48 30 54 47 47 74 17 60 18 66\n",
      " 65 21 36 91 15 33 99 97 99 54 19 93  7 67 62 27 29 31 43 32 31 19 62 70\n",
      " 77  1 27 94 86 71 84  7 96 21 26 57 81 32 88 64 18 88 90 60 95 49 93 18\n",
      "  0  0 72 32 95 40 33 53 65 49 86 18 13 33 95 58 94  6  0 45 75 14 27 55\n",
      "  6 35 71 24 74 60 29 59  5 55 17 90 69 15 82 76 86 77 46  0 41 70 33 19\n",
      " 83 62 64 72 45 78 49 81 56 34 46 67 70 71 43 52 23 46 72 96 57 33 63 55\n",
      " 96 54 43 70 71 85 55 67 17 35 29 23 93 63 16 58 38 43 89 94 61  9 29 55\n",
      " 38 12 36 48 78 81 92 24 63 47 73 87 83 48 68 13 42  5 65 87]\n"
     ]
    }
   ],
   "source": [
    "N=10 #percentage of highest amplitudes, see: Machine_Learning_using_Best_Fourier_Coefficients.ipynb\n",
    "n_of_samples=2000 #number of samples, see: Machine_Learning_using_Best_Fourier_Coefficients.ipynb\n",
    "\n",
    "n_features_for_select=0\n",
    "for i in range(len(sorted_values_from_all_sensors)):\n",
    "    n_features_for_select=n_features_for_select+int(len(sorted_values_from_all_sensors[i][0][:]))\n",
    "\n",
    "# Defining how much of features with biggest Pearson correllation coeff. will be selected.\n",
    "n_of_features = int(input(\"How many features out of %s you want to select (recommended is 500): \" % n_features_for_select))\n",
    "\n",
    "\n",
    "target_matrix = pd.DataFrame(target)        # Transforming list \"target\" into data frame \"target_matrix\"\n",
    "\n",
    "print(\"\\nDimension of target matrix is:\")\n",
    "print(\"                                                 \", target_train_vector.shape)\n",
    "print(\"Dimension of amplitude matrix for one sensor is:\")\n",
    "print(\"                                                 \", sorted_values_from_all_sensors[0][:,:].shape)\n",
    "\n",
    "corr_array_p=Pearson_corr(sorted_values_from_all_sensors,N,n_of_samples)\n",
    "print(\"Array of correlation coefficients has size:\")\n",
    "print(\"                                                 \",corr_array_p.shape)  \n",
    "# sensor_n is the index of the sensor number.\n",
    "# feature_n is the index of the feature number for each sensor number.\n",
    "sensor_n, feature_n = largest_indices(corr_array_p, n_of_features)\n",
    "\n",
    "print(\"Sensor indices of location of features in >sorted_values_from_all_sensors< matrix: \\n\")\n",
    "print(sensor_n)\n",
    "print(\"\\nColumn indices of location of features in >sorted_values_from_all_sensors< matrix: \\n\")\n",
    "print(feature_n)"
   ]
  },
  {
   "cell_type": "code",
   "execution_count": 59,
   "metadata": {},
   "outputs": [],
   "source": [
    "def percentage (sensor_ind,feature_ind,sorted_values_from_all_sensors):\n",
    "    # Initialising a list of best features. 11 sublists containing features from each sensor, respectively.\n",
    "    top_n_features=[[], [], [], [], [], [], [], [], [], [], []]\n",
    "    for i in range(len(sorted_values_from_all_sensors)):\n",
    "        for j in range(len(sensor_ind)):\n",
    "            if sensor_ind[j]==i:\n",
    "                top_n_features[i].append(sorted_values_from_all_sensors[i][:,feature_ind[j]]);\n",
    "\n",
    "    for i in range(len(sorted_values_from_all_sensors)):\n",
    "        for j in range(len(top_n_features[i])):\n",
    "            top_n_features[i][j]=list(top_n_features[i][j])\n",
    "\n",
    "    # Merging sublists into one list with all elements.\n",
    "    top_n_together=[j for i in top_n_features for j in i]  \n",
    "\n",
    "    top_n_together_matrix=np.transpose(pd.DataFrame(top_n_together))\n",
    "    print(type(top_n_together_matrix), \"\\n\")\n",
    "\n",
    "    # Continue working with abosulte values.\n",
    "    abs_top_n_together_matrix=np.abs(top_n_together_matrix)\n",
    "\n",
    "    percentage=list(range(len(sorted_values_from_all_sensors)))\n",
    "    k=0\n",
    "    for i in range(len(sorted_values_from_all_sensors)):\n",
    "        #print(top_n_features_matrix.shape)\n",
    "        print(\"Number of features from sensor %2.0f is: %3.0f or  %4.2f %%\" % (i, len(top_n_features[i]), len(top_n_features[i])/len(sensor_ind)*100))\n",
    "        percentage[i]=len(top_n_features[i])\n",
    "        k=k+len(top_n_features[i])/len(sensor_ind)*100\n",
    "    print(\"----------------------------------------------------\")\n",
    "    print(\"                                             %4.2f\" % (k))\n",
    "\n",
    "    return percentage,abs_top_n_together_matrix"
   ]
  },
  {
   "cell_type": "markdown",
   "metadata": {},
   "source": [
    "Based on the found indices for highest features, all of them are put together into a list `top_n_features`, but separated into sublists based on the sensor they are taken from. Then, by comparing the sizes of these groups it is shown how many of those selected features are from which sensor.\n",
    "\n",
    "After that, they are merged into one feature matrix `abs_top_n_together_matrix`, and all steps from here on are done on these features with absolute values."
   ]
  },
  {
   "cell_type": "code",
   "execution_count": 60,
   "metadata": {},
   "outputs": [
    {
     "name": "stdout",
     "output_type": "stream",
     "text": [
      "<class 'pandas.core.frame.DataFrame'> \n",
      "\n",
      "Number of features from sensor  0 is:  76 or  15.20 %\n",
      "Number of features from sensor  1 is:  38 or  7.60 %\n",
      "Number of features from sensor  2 is:  80 or  16.00 %\n",
      "Number of features from sensor  3 is:  77 or  15.40 %\n",
      "Number of features from sensor  4 is:   5 or  1.00 %\n",
      "Number of features from sensor  5 is:   6 or  1.20 %\n",
      "Number of features from sensor  6 is:   5 or  1.00 %\n",
      "Number of features from sensor  7 is:  72 or  14.40 %\n",
      "Number of features from sensor  8 is:  50 or  10.00 %\n",
      "Number of features from sensor  9 is:  45 or  9.00 %\n",
      "Number of features from sensor 10 is:  46 or  9.20 %\n",
      "----------------------------------------------------\n",
      "                                             100.00\n"
     ]
    }
   ],
   "source": [
    "\n",
    "abs_top_n_together_matrix=np.zeros((sorted_values_from_all_sensors[0].shape[0], n_features_for_select))\n",
    "percentage_p,abs_top_n_together_matrix=percentage(sensor_n,feature_n,sorted_values_from_all_sensors)"
   ]
  },
  {
   "cell_type": "markdown",
   "metadata": {},
   "source": [
    "### Monte Carlo method for the feature selection"
   ]
  },
  {
   "cell_type": "markdown",
   "metadata": {},
   "source": [
    "*Reading the data for 10% of the highest amplitudes from the file Machine_Learning_using_Best_Fourier_Coefficients.ipynb calculated from DFT:\n",
    "Values were obtained by using factor of splitting data into train and test from the above.*"
   ]
  },
  {
   "cell_type": "code",
   "execution_count": 61,
   "metadata": {},
   "outputs": [],
   "source": [
    "import os\n",
    "import h5py\n",
    "\n",
    "amp_dft2= h5py.File(\"DFTSorted_vaules__from_all_sensors.hdf5\",\"r\")\n",
    "freq_dft2= h5py.File(\"DFTSorted_freq_from_all_sensors.hdf5\",\"r\") \n",
    "ph_dft2= h5py.File(\"DFTSorted_ph_from_all_sensors.hdf5\",\"r\")\n",
    "u_a_dft2= h5py.File(\"DFTSorted_uncer_from_all_sensors_a.hdf5\",\"r\")\n",
    "u_ap_dft2= h5py.File(\"DFTSorted_uncer_from_all_sensors_ap.hdf5\",\"r\")    \n",
    "u_pp_dft= h5py.File(\"DFTSorted_uncer_from_all_sensors_pp.hdf5\",\"r\")    \n"
   ]
  },
  {
   "cell_type": "code",
   "execution_count": 62,
   "metadata": {},
   "outputs": [],
   "source": [
    "freq_of_sorted_values=[0]*len(sensor_train)\n",
    "sorted_values__amp_from_all_sensors=[0]*len(sensor_train)\n",
    "sorted_uncer_from_all_sensors_a=[0]*len(sensor_train)\n",
    "for i in range(len(sensor)):\n",
    "    freq_of_sorted_values[i]=freq_dft2[\"freq_of_sorted_values\"+str(i)]\n",
    "    sorted_values__amp_from_all_sensors[i]=amp_dft2[\"sorted_values_amp_from_all_sensors\"+str(i)]\n",
    "    sorted_uncer_from_all_sensors_a[i]=u_a_dft2[\"sorted_uncer_from_all_sensors_a\"+str(i)]\n",
    "    "
   ]
  },
  {
   "cell_type": "markdown",
   "metadata": {},
   "source": [
    "Results provided from DFT contain uncertainties of amplitudes, phases and their covariances. Second method analyzed for the feature selection is Monte Carlo method which uses Pearson correlation performed on these data. \n",
    "\n",
    "Random samples were taken from multivariate normal distribution of amplitudes and their uncertainties. Phases and their uncertainties have not been included. "
   ]
  },
  {
   "cell_type": "markdown",
   "metadata": {},
   "source": [
    "Features with highest Pearson correlation coefficients through M Monte Carlo trials will be selected. \n",
    "\n",
    "The application of Monte Carlo method can be stated through following steps:\n",
    "\n",
    "1) Class `Normal_ZeroCorr` -  Multivariate normal distribution with zero correlation was defined. \n"
   ]
  },
  {
   "cell_type": "code",
   "execution_count": 63,
   "metadata": {},
   "outputs": [],
   "source": [
    "# Source code from PyDynamic\n",
    "class Normal_ZeroCorr:\n",
    "    \"\"\"     Multivariate normal distribution with zero correlation\"\"\"\n",
    "    def __init__(self, loc=np.zeros(1), scale=np.zeros(1)):\n",
    "        \"\"\"\n",
    "        Parameters\n",
    "        ----------\n",
    "            loc: np.ndarray, optional\n",
    "                mean values, default is zero\n",
    "            scale: np.ndarray, optional\n",
    "                standard deviations for the elements in loc, default is zero\n",
    "        \"\"\"\n",
    "        if isinstance(loc, np.ndarray) or isinstance(scale, np.ndarray):\n",
    "            # convert loc to array if necessary\n",
    "            if not isinstance(loc, np.ndarray):\n",
    "                self.loc = loc * np.ones(1)\n",
    "            else:\n",
    "                self.loc = loc\n",
    "            # convert scale to arraym if necessary\n",
    "            if not isinstance(scale, np.ndarray):\n",
    "                self.scale = scale * np.ones(1)\n",
    "            else:\n",
    "                self.scale = scale\n",
    "\n",
    "            # if one of both (loc/scale) has length one, make it bigger to fit\n",
    "            # size of the other\n",
    "            if self.loc.size != self.scale.size:\n",
    "                Nmax = max(self.loc.size, self.scale.size)\n",
    "                if self.loc.size == 1 and self.scale.size != 1:\n",
    "                    self.loc = self.loc * np.ones(Nmax)\n",
    "                elif self.scale.size == 1 and self.loc.size != 1:\n",
    "                    self.scale = self.scale * np.ones(Nmax)\n",
    "                else:\n",
    "                    raise ValueError(\n",
    "                        \"loc and scale do not have the same dimensions. (And \"\n",
    "                        \"none of them has dim == 1)\")\n",
    "        else:\n",
    "            raise TypeError(\"At least one of loc or scale must be of type \"\n",
    "                            \"numpy.ndarray.\")\n",
    "    def rvs(self, size=1):\n",
    "        # This function mimics the behavior of the scipy stats package\n",
    "        return np.tile(self.loc, (size, 1)) + \\\n",
    "               np.random.randn(size, len(self.loc)) * \\\n",
    "               np.tile(self.scale, (size, 1))"
   ]
  },
  {
   "cell_type": "markdown",
   "metadata": {},
   "source": [
    "2) N% of amplitudes are considered as input quantities *Xi*, along with their uncertainties. \n",
    "\n",
    "3) Sampling from the assigned distribution (in this case, normal distribution ) is performed  for every cycle by using class `Normal_ZeroCorr` -  Multivariate normal distribution with zero correlation. For example, number of  performed MC trials is 100.\n",
    "\n",
    "4) List *Xi_dist* sized´[number of sensors] with sublist sized [number of cycles] contains samples from multivariate normal distribution of N% of amplitudes for 100 MC trials. Sublist contains np.array((100, N% of amplitudes)). This means for each cycle, there are 100 draws for every of 10% amplitudes.\n",
    "\n",
    "5) List *A* sized´[number of trials=100] with sublist sized [number of sensors] collects samples from all cycles for each MC trial in np.array((num of cycles, N% of amplitudes)). This means, for example for the first trial, draws from all cycles were collected.\n",
    "\n",
    "\n",
    "*Note: Despite the mathematical and physical connection of amplitude and phase, in many practical cases the covariances  are considered to be zero.*\n",
    "\n"
   ]
  },
  {
   "cell_type": "code",
   "execution_count": 64,
   "metadata": {},
   "outputs": [
    {
     "name": "stdout",
     "output_type": "stream",
     "text": [
      "Enter the number of Monte Carlo trials:10\n"
     ]
    }
   ],
   "source": [
    "#setting MC trials\n",
    "trials=int(input(\"Enter the number of Monte Carlo trials:\"))\n",
    "#Xi_dist collects samples in trials for every sensor\n",
    "Xi_dist=list(range(len(sensor)))\n",
    "\n",
    "\n",
    "for s in range(len(sensor)):\n",
    "    #Example: sensor index=0, 5000 cycles, 1000 trials for each cycle,N% of amplitudes = 100: \n",
    "    #Xi_dist[0][:5000].shape=(1000,100)\n",
    "    Xi_dist[s]=list(range(sorted_values__amp_from_all_sensors[0].shape[0]))\n",
    "    for d in range(sorted_values__amp_from_all_sensors[0].shape[0]):\n",
    "        Xi_dist[s][d]=np.zeros((trials,sorted_values__amp_from_all_sensors[0].shape[1]))\n",
    "        \n",
    "\n",
    "#A - collecting value of each trial for every cycle. \n",
    "A=list(range(trials))\n",
    "\n",
    "for f in range(trials):\n",
    "#Example: Zero sensor, first trial, - A[0][1].shape=5347,100\n",
    "#initializing zero values\n",
    "    A[f]=list(range(len(sensor)))\n",
    "    for s in range(len(sensor)):\n",
    "        #Example:sensor index=0, 5000 cycles, 1000 trials for each cycle,N% of amplitudes = 100: \n",
    "        #A[:1000][0].shape=(5000,100)\n",
    "        A[f][s]=np.zeros((sorted_values__amp_from_all_sensors[0].shape))\n",
    "\n",
    "for i in range(len(sensor)):\n",
    "    for m in range(sorted_values__amp_from_all_sensors[0].shape[0]):\n",
    "        dist = Normal_ZeroCorr(loc=sorted_values__amp_from_all_sensors[i][m,:],scale=np.sqrt(sorted_uncer_from_all_sensors_a[i][m,:]))\n",
    "        Xi_dist[i][m]=dist.rvs(trials)\n",
    "        #A matrix will be used for Pearson's correlation:\n",
    "        # Adding values from Xi_dist to A:\n",
    "    for j in range(trials):\n",
    "        for s in range(sorted_values__amp_from_all_sensors[0].shape[0]):\n",
    "            A[j][i][s]=Xi_dist[i][s][j]"
   ]
  },
  {
   "cell_type": "markdown",
   "metadata": {},
   "source": [
    "5) Model function is function largest_indices(corr_array[trial], n_of_features), which is based on Pearson correlation with output quantitites: *corr* and *p_value*\n",
    "\n",
    "6) First, Pearson correlation is conducted for *100* MC trials, resulting in:\n",
    "    \n",
    "    corr=list(range(100))                   \n",
    "    p_value=list(range(100))\n",
    "\n",
    "7) For every trial, values stored in *corr* list were put in np.array (corr_array[trial]=np.array(corr[trial]))\n",
    "\n",
    "8) Function largest_indices(corr_array[trial], n_of_features_x) is executed.\n",
    "\n",
    "9) Results of the function execution (sensor and column indices of features) were stored in  lists: \n",
    "    sensor_n_x[trial],feature_n_x[trial]. For 100 MC trials, there will be 100 elements of lists in sensor_n_x and feature_n_x. One element for one trial.\n"
   ]
  },
  {
   "cell_type": "code",
   "execution_count": 65,
   "metadata": {},
   "outputs": [
    {
     "name": "stdout",
     "output_type": "stream",
     "text": [
      "How many features out of 1100 you want to select (recommended is 500): 500\n",
      "\n",
      "Dimension of target matrix is:\n",
      "                                                  (5347, 1)\n",
      "Dimension of amplitude matrix for one sensor is:\n",
      "                                                  (5347, 100)\n",
      "Array of correlation coefficients has size:\n",
      "                                                  (11, 100)\n",
      "Sensor indices of location of features for the first trial in >sorted_values__amp_from_all_sensors< matrix  \n",
      "\n",
      "[ 2  0 10  0  2  0  2  2  9  3  3  3  9  3  3 10  2  2  1  3  2  7  3  3\n",
      "  0  3  8  0  0  3  0  1  8  0  2  0  0  7  3  0  2  0  2  3  0  3 10  3\n",
      "  0  2  2  2  2  2  2  0  3  3  3  2  0  2  3  3 10  3  0  9  0  3  3  2\n",
      "  0  8  3  2  0  3  3  3  2  0  3  3  2  2  3  3  3  3  3  3  3  0  3  0\n",
      "  3  3  0  2  0  3  3  3  5 10  3  2  0 10  3  0  2  2  2  2  8  3  2  2\n",
      "  0  2  2  2  2  2  2  0  2  9 10  2  3  5  2  2  0  0  8  0  2  2  9  0\n",
      "  2  0  2  0  2  3  3  2  0  2  2  2  2  2  2  2  3  0  2  2  0  0  2  2\n",
      "  3  2  7  3  0  2  2  0  2  0  2  2  1  0  0  0  0  2  2  2  2  0  2  0\n",
      "  5  0  2  0  1  3  0  8  0  1  2  3  3  0  0  3  3  3  3  0 10  9  3  8\n",
      "  0  3  1  7  0  3  9 10  0 10  1  3  7  0  1  0  2  0  0  0  3  3  1  0\n",
      "  8  1  3  2  0  5 10 10  9  2  9  1  1  0  7  3  4  1  3  3  0  0  1  6\n",
      "  9  7  9  3  9  8 10  1  0  5  2  3  9  1 10  3 10  2  0  0  7  8  2  8\n",
      "  1  9  9  1  9  8  7  0  9 10  3  5  7  8  0  1  8 10  9 10  0  1  1  9\n",
      "  7  4  1 10  1  3  2  8  3  0  8 10  2  7  9  8  1  8  9 10  1  1  0  2\n",
      "  6  8  7  9  2  1  9  1  2  3  7  6  8  9  9 10  4  7  9  0  8  3  8  7\n",
      "  7  1  7  9  9  9  7  7  1  3  3  7  9  1  7  0  7  9  1  2  1 10  7  1\n",
      "  3  6  1 10  0  9  8  4  7  6  9  1 10  9  8 10 10  2  9  7  7  8  1  8\n",
      "  8  9 10  1  1  7  8  9  8 10  1  9  7  7  8  7  8 10  7  9  9  9  0 10\n",
      "  1  8  0  7  7  7  8  9  8  4  9  9 10  8  4  8  4 10  9  8  1 10  9 10\n",
      "  8 10  9  5 10  4  9  0  7 10 10  1  9 10  8  8 10  4 10  9  9 10  8  7\n",
      "  6  8  8  7  4  7  1  6 10  8  8  4 10  8  4  7  6 10 10  5]\n",
      "\n",
      "Column indices of location of features for the first trial in >sorted_values__amp_from_all_sensors< matrix \n",
      "\n",
      "[25  1 44 18 98 78 97 17 73  2 26 23  2 36 30 41 74 41  2 40 33 14  4 24\n",
      " 52  7 60 59 53  1 67  0 82 95 81 56 96 27 56 50 35 61 56 43 44  6  6 47\n",
      " 43 85 12 69 51 42 22 14 15 72 60 52 40 71 18 64 24  5 45 17 41 58 25 34\n",
      " 51 37  9 72 60 12 87 14 88  3 20 22 68  7 88 78 16 19 32 17 13 36 97 39\n",
      " 86 10 93 75 37 77 45 28 12 34 11 82 58  2 73 86 43 10 84 19 11 33 32 31\n",
      " 25 94 92 60 83 29 61 47 26  1  1 30 34 13 13 59 11 27  1 35 67 95 44  0\n",
      " 55 21 20 15 73 68 98 21  6 63 62 48 79 53 38 86 82 26 49 27 57  9 39 44\n",
      "  8 77  1 44 20 46 40 32 54 23 50 76 16  8 31 34 76 57 89 70 66 48 47 66\n",
      "  8 22 58 77  4 37 38 25 99 15 45 53 62 81 82 80  3 29 41 68 26 25 69 20\n",
      " 85 92 20 10 80 49 21 73 83 22 37 31 11 30  1 28 65 65 92 49 65 59 59 72\n",
      " 28 13 74 36 55 10 87 30 71 91 28 44 50 74  9 76  7 31 27 54 91 70 65  1\n",
      " 66 13 18 66 47 17 91  8 62  7 18 21  0 28  0 52 19 93 71 64  7  0  6 24\n",
      " 48 40 29 78 13 30  6 17 92 33 95  5  0 32 19 27 14 15 31 29 33 52 18 26\n",
      " 67  9 47 27 49 48 78 31 46 29 95 32 24 15 12 29 43 13 37 35 60 93 89 87\n",
      " 33 35  5 32 14 99 23 67  8 89 25 41 41  9 16 13  8 62 80 75  8 71 33 81\n",
      " 22 57 23 65 42 34 18 45 55 63 96  3  6 29 19 97 21 97 72 28 70 18 53 56\n",
      " 38 43 83 55 88 53 19  6 28 35 46 90 49 43 90 25 52 15 58 37 34 26 82  6\n",
      "  9 22  9 12 32 16 46  7 34 37 23 86 32 17  7  8 63 65 36 60  5 55 63 88\n",
      " 61 47 73 44  4 48 45 49 43  1 38 33 57 55 19 62  0 58 14 86 81 71 77 77\n",
      " 94 90 84  6  7 81 11 87 38  5 94 63 95 47 42 38 42 18 38 63 10  8 40 52\n",
      " 34 23 96 39 56 41 34 93 50 68 36 40 36 10 20 46 88 61 96  4]\n"
     ]
    }
   ],
   "source": [
    "N=10 #percentage of highest amplitudes, see: Machine_Learning_using_Best_Fourier_Coefficients.ipynb\n",
    "n_of_samples=2000 #number of samples, see: Machine_Learning_using_Best_Fourier_Coefficients.ipynb\n",
    "\n",
    "n_features_for_select_x=0\n",
    "for i in range(len(sorted_values__amp_from_all_sensors)):\n",
    "    n_features_for_select_x=n_features_for_select_x+int(len(sorted_values__amp_from_all_sensors[i][0,:]))\n",
    "\n",
    "# Defining how much of features with biggest Pearson correllation coeff. will be selected.\n",
    "n_of_features_x = int(input(\"How many features out of %s you want to select (recommended is 500): \" % n_features_for_select_x))\n",
    "\n",
    "\n",
    "target_matrix = pd.DataFrame(target)        # Transforming list \"target\" into data frame \"target_matrix\"\n",
    "\n",
    "print(\"\\nDimension of target matrix is:\")\n",
    "print(\"                                                 \", target_train_vector.shape)\n",
    "print(\"Dimension of amplitude matrix for one sensor is:\")\n",
    "print(\"                                                 \", sorted_values_from_all_sensors[0][:,:].shape)\n",
    "\n",
    "\n",
    "sensor_n_x=list(range(trials))\n",
    "feature_n_x=list(range(trials))\n",
    "corr_array_MC=list(range(trials))\n",
    "for s in range(trials):\n",
    "    corr_array_MC[s]=Pearson_corr(A[s],N,n_of_samples)\n",
    "print(\"Array of correlation coefficients has size:\")\n",
    "print(\"                                                 \", corr_array_MC[0].shape) \n",
    "\n",
    "# sensor_n_x is the index of the sensor number.\n",
    "# feature_n_x is the index of the feature number for each sensor number.\n",
    "\n",
    "sensor_n_x=list(range(trials))\n",
    "feature_n_x=list(range(trials))\n",
    "for p in range(trials): \n",
    "    sensor_n_x[p], feature_n_x[p] = largest_indices(corr_array_MC[p], n_of_features_x)\n",
    "\n",
    "print(\"Sensor indices of location of features for the first trial in >sorted_values__amp_from_all_sensors< matrix  \\n\")\n",
    "print(sensor_n_x[0])\n",
    "print(\"\\nColumn indices of location of features for the first trial in >sorted_values__amp_from_all_sensors< matrix \\n\")\n",
    "print(feature_n_x[0])"
   ]
  },
  {
   "cell_type": "markdown",
   "metadata": {},
   "source": [
    "Representation of sensors in percentages for each tral has been given  in the list percentage_x:"
   ]
  },
  {
   "cell_type": "code",
   "execution_count": 66,
   "metadata": {},
   "outputs": [
    {
     "name": "stdout",
     "output_type": "stream",
     "text": [
      "<class 'pandas.core.frame.DataFrame'> \n",
      "\n",
      "Number of features from sensor  0 is:  82 or  16.40 %\n",
      "Number of features from sensor  1 is:  44 or  8.80 %\n",
      "Number of features from sensor  2 is:  84 or  16.80 %\n",
      "Number of features from sensor  3 is:  78 or  15.60 %\n",
      "Number of features from sensor  4 is:  12 or  2.40 %\n",
      "Number of features from sensor  5 is:   8 or  1.60 %\n",
      "Number of features from sensor  6 is:   8 or  1.60 %\n",
      "Number of features from sensor  7 is:  40 or  8.00 %\n",
      "Number of features from sensor  8 is:  46 or  9.20 %\n",
      "Number of features from sensor  9 is:  51 or  10.20 %\n",
      "Number of features from sensor 10 is:  47 or  9.40 %\n",
      "----------------------------------------------------\n",
      "                                             100.00\n",
      "<class 'pandas.core.frame.DataFrame'> \n",
      "\n",
      "Number of features from sensor  0 is:  82 or  16.40 %\n",
      "Number of features from sensor  1 is:  43 or  8.60 %\n",
      "Number of features from sensor  2 is:  84 or  16.80 %\n",
      "Number of features from sensor  3 is:  78 or  15.60 %\n",
      "Number of features from sensor  4 is:  10 or  2.00 %\n",
      "Number of features from sensor  5 is:   8 or  1.60 %\n",
      "Number of features from sensor  6 is:   7 or  1.40 %\n",
      "Number of features from sensor  7 is:  43 or  8.60 %\n",
      "Number of features from sensor  8 is:  42 or  8.40 %\n",
      "Number of features from sensor  9 is:  51 or  10.20 %\n",
      "Number of features from sensor 10 is:  52 or  10.40 %\n",
      "----------------------------------------------------\n",
      "                                             100.00\n",
      "<class 'pandas.core.frame.DataFrame'> \n",
      "\n",
      "Number of features from sensor  0 is:  82 or  16.40 %\n",
      "Number of features from sensor  1 is:  44 or  8.80 %\n",
      "Number of features from sensor  2 is:  84 or  16.80 %\n",
      "Number of features from sensor  3 is:  78 or  15.60 %\n",
      "Number of features from sensor  4 is:  12 or  2.40 %\n",
      "Number of features from sensor  5 is:   8 or  1.60 %\n",
      "Number of features from sensor  6 is:   8 or  1.60 %\n",
      "Number of features from sensor  7 is:  41 or  8.20 %\n",
      "Number of features from sensor  8 is:  41 or  8.20 %\n",
      "Number of features from sensor  9 is:  52 or  10.40 %\n",
      "Number of features from sensor 10 is:  50 or  10.00 %\n",
      "----------------------------------------------------\n",
      "                                             100.00\n",
      "<class 'pandas.core.frame.DataFrame'> \n",
      "\n",
      "Number of features from sensor  0 is:  82 or  16.40 %\n",
      "Number of features from sensor  1 is:  44 or  8.80 %\n",
      "Number of features from sensor  2 is:  84 or  16.80 %\n",
      "Number of features from sensor  3 is:  78 or  15.60 %\n",
      "Number of features from sensor  4 is:  11 or  2.20 %\n",
      "Number of features from sensor  5 is:   8 or  1.60 %\n",
      "Number of features from sensor  6 is:   9 or  1.80 %\n",
      "Number of features from sensor  7 is:  39 or  7.80 %\n",
      "Number of features from sensor  8 is:  47 or  9.40 %\n",
      "Number of features from sensor  9 is:  51 or  10.20 %\n",
      "Number of features from sensor 10 is:  47 or  9.40 %\n",
      "----------------------------------------------------\n",
      "                                             100.00\n",
      "<class 'pandas.core.frame.DataFrame'> \n",
      "\n",
      "Number of features from sensor  0 is:  82 or  16.40 %\n",
      "Number of features from sensor  1 is:  47 or  9.40 %\n",
      "Number of features from sensor  2 is:  84 or  16.80 %\n",
      "Number of features from sensor  3 is:  78 or  15.60 %\n",
      "Number of features from sensor  4 is:   7 or  1.40 %\n",
      "Number of features from sensor  5 is:   8 or  1.60 %\n",
      "Number of features from sensor  6 is:   9 or  1.80 %\n",
      "Number of features from sensor  7 is:  39 or  7.80 %\n",
      "Number of features from sensor  8 is:  50 or  10.00 %\n",
      "Number of features from sensor  9 is:  50 or  10.00 %\n",
      "Number of features from sensor 10 is:  46 or  9.20 %\n",
      "----------------------------------------------------\n",
      "                                             100.00\n",
      "<class 'pandas.core.frame.DataFrame'> \n",
      "\n",
      "Number of features from sensor  0 is:  82 or  16.40 %\n",
      "Number of features from sensor  1 is:  44 or  8.80 %\n",
      "Number of features from sensor  2 is:  84 or  16.80 %\n",
      "Number of features from sensor  3 is:  78 or  15.60 %\n",
      "Number of features from sensor  4 is:  12 or  2.40 %\n",
      "Number of features from sensor  5 is:   8 or  1.60 %\n",
      "Number of features from sensor  6 is:   8 or  1.60 %\n",
      "Number of features from sensor  7 is:  42 or  8.40 %\n",
      "Number of features from sensor  8 is:  45 or  9.00 %\n",
      "Number of features from sensor  9 is:  51 or  10.20 %\n",
      "Number of features from sensor 10 is:  46 or  9.20 %\n",
      "----------------------------------------------------\n",
      "                                             100.00\n",
      "<class 'pandas.core.frame.DataFrame'> \n",
      "\n",
      "Number of features from sensor  0 is:  82 or  16.40 %\n",
      "Number of features from sensor  1 is:  41 or  8.20 %\n",
      "Number of features from sensor  2 is:  84 or  16.80 %\n",
      "Number of features from sensor  3 is:  78 or  15.60 %\n",
      "Number of features from sensor  4 is:   9 or  1.80 %\n",
      "Number of features from sensor  5 is:   8 or  1.60 %\n",
      "Number of features from sensor  6 is:   6 or  1.20 %\n",
      "Number of features from sensor  7 is:  42 or  8.40 %\n",
      "Number of features from sensor  8 is:  49 or  9.80 %\n",
      "Number of features from sensor  9 is:  54 or  10.80 %\n",
      "Number of features from sensor 10 is:  47 or  9.40 %\n",
      "----------------------------------------------------\n",
      "                                             100.00\n",
      "<class 'pandas.core.frame.DataFrame'> \n",
      "\n",
      "Number of features from sensor  0 is:  82 or  16.40 %\n",
      "Number of features from sensor  1 is:  43 or  8.60 %\n",
      "Number of features from sensor  2 is:  84 or  16.80 %\n",
      "Number of features from sensor  3 is:  78 or  15.60 %\n",
      "Number of features from sensor  4 is:  13 or  2.60 %\n",
      "Number of features from sensor  5 is:   8 or  1.60 %\n",
      "Number of features from sensor  6 is:   7 or  1.40 %\n",
      "Number of features from sensor  7 is:  44 or  8.80 %\n",
      "Number of features from sensor  8 is:  45 or  9.00 %\n",
      "Number of features from sensor  9 is:  50 or  10.00 %\n",
      "Number of features from sensor 10 is:  46 or  9.20 %\n",
      "----------------------------------------------------\n",
      "                                             100.00\n",
      "<class 'pandas.core.frame.DataFrame'> \n",
      "\n",
      "Number of features from sensor  0 is:  82 or  16.40 %\n",
      "Number of features from sensor  1 is:  43 or  8.60 %\n",
      "Number of features from sensor  2 is:  84 or  16.80 %\n",
      "Number of features from sensor  3 is:  78 or  15.60 %\n",
      "Number of features from sensor  4 is:  13 or  2.60 %\n",
      "Number of features from sensor  5 is:   8 or  1.60 %\n",
      "Number of features from sensor  6 is:   7 or  1.40 %\n",
      "Number of features from sensor  7 is:  42 or  8.40 %\n",
      "Number of features from sensor  8 is:  48 or  9.60 %\n",
      "Number of features from sensor  9 is:  51 or  10.20 %\n",
      "Number of features from sensor 10 is:  44 or  8.80 %\n",
      "----------------------------------------------------\n",
      "                                             100.00\n",
      "<class 'pandas.core.frame.DataFrame'> \n",
      "\n",
      "Number of features from sensor  0 is:  82 or  16.40 %\n",
      "Number of features from sensor  1 is:  41 or  8.20 %\n",
      "Number of features from sensor  2 is:  84 or  16.80 %\n",
      "Number of features from sensor  3 is:  79 or  15.80 %\n",
      "Number of features from sensor  4 is:  14 or  2.80 %\n",
      "Number of features from sensor  5 is:   8 or  1.60 %\n",
      "Number of features from sensor  6 is:   8 or  1.60 %\n",
      "Number of features from sensor  7 is:  38 or  7.60 %\n",
      "Number of features from sensor  8 is:  49 or  9.80 %\n",
      "Number of features from sensor  9 is:  51 or  10.20 %\n",
      "Number of features from sensor 10 is:  46 or  9.20 %\n",
      "----------------------------------------------------\n",
      "                                             100.00\n"
     ]
    }
   ],
   "source": [
    "abs_top_n_together_matrix_x=list(range(trials))\n",
    "percentage_x=list(range(trials))\n",
    "for i in range(trials):\n",
    "     percentage_x[i],abs_top_n_together_matrix_x[i]=percentage(sensor_n_x[i],feature_n_x[i],sorted_values__amp_from_all_sensors)"
   ]
  },
  {
   "cell_type": "markdown",
   "metadata": {},
   "source": [
    "The plot shows comparison of frequency of occurrences for the sensors of features with highest correlation coefficients in case of methods: Pearson correlation (amplitudes only) and Pearson correlation results performed for the specific number of Monte Carlo trials."
   ]
  },
  {
   "cell_type": "code",
   "execution_count": 67,
   "metadata": {},
   "outputs": [
    {
     "data": {
      "application/vnd.jupyter.widget-view+json": {
       "model_id": "11a645064e7e4d0492309f53a57b5bf2",
       "version_major": 2,
       "version_minor": 0
      },
      "text/plain": [
       "interactive(children=(IntSlider(value=0, description='trials', max=99), Output()), _dom_classes=('widget-inter…"
      ]
     },
     "metadata": {},
     "output_type": "display_data"
    },
    {
     "data": {
      "text/plain": [
       "<function __main__.MC_plot(trials)>"
      ]
     },
     "execution_count": 67,
     "metadata": {},
     "output_type": "execute_result"
    }
   ],
   "source": [
    "import ipywidgets as widgets\n",
    "from ipywidgets import interact, interact_manual\n",
    "def MC_plot(trials):\n",
    "    bins = len(sensor)\n",
    "    plt.figure(figsize=(15,7))\n",
    "    plt.hist(sensor_n, bins, alpha=0.5, label='Pearson_corr - amplitudes only')\n",
    "    plt.xlabel(\"Sensor (0-10)\")\n",
    "    plt.ylabel(\"Frequency\") \n",
    "    plt.title(\"Frequency of sensor indices of features with biggest correlation \")\n",
    "    plt.hist(sensor_n_x[trials], bins, alpha=0.5, label='Monte Carlo: Pearson_corr')\n",
    "    plt.legend(loc='upper right')\n",
    "    plt.show()\n",
    "interact(MC_plot,trials=widgets.IntSlider(min=0, max=99, step=1))"
   ]
  },
  {
   "cell_type": "markdown",
   "metadata": {},
   "source": [
    "The plot shows comparison of frequency of occurrences for the features with highest correlation coefficients in case of methods: Pearson correlation (amplitudes only) and Pearson correlation results performed for the specific number of Monte Carlo trials."
   ]
  },
  {
   "cell_type": "code",
   "execution_count": 68,
   "metadata": {},
   "outputs": [
    {
     "data": {
      "application/vnd.jupyter.widget-view+json": {
       "model_id": "c13b4413c8524f64839c6c9822314492",
       "version_major": 2,
       "version_minor": 0
      },
      "text/plain": [
       "interactive(children=(IntSlider(value=0, description='runs', max=99), Output()), _dom_classes=('widget-interac…"
      ]
     },
     "metadata": {},
     "output_type": "display_data"
    },
    {
     "data": {
      "text/plain": [
       "<function __main__.MC_plot1(runs)>"
      ]
     },
     "execution_count": 68,
     "metadata": {},
     "output_type": "execute_result"
    }
   ],
   "source": [
    "import ipywidgets as widgets\n",
    "from ipywidgets import interact, interact_manual\n",
    "def MC_plot1(runs):\n",
    "    bins = sorted_values__amp_from_all_sensors[0].shape[1]\n",
    "    plt.figure(figsize=(15,7))\n",
    "    plt.hist(feature_n, bins, alpha=0.5, label='Pearson_corr amplitudes only')\n",
    "    plt.xlabel(\"Columns (1-100)\")\n",
    "    plt.ylabel(\"Frequency\")\n",
    "    plt.hist(feature_n_x[runs], bins, alpha=0.5, label='Monte Carlo: Pearson_corr')\n",
    "    plt.title(\"Frequency of column indices of features with biggest correlation for all sensors\")\n",
    "    plt.legend(loc='upper right')\n",
    "    plt.show()\n",
    "\n",
    "interact(MC_plot1,runs=widgets.IntSlider(min=0, max=99, step=1))"
   ]
  },
  {
   "cell_type": "markdown",
   "metadata": {},
   "source": [
    "A value of M, the number of Monte Carlo trials, i.e. the number of model evaluations to be made, needs to be selected. \n",
    "A value of M = $10^6$ can often be expected to deliver a 95 % coverage interval for the output quantity such that this length is correct to one or two signiﬁcant decimal digits.  \n",
    "The choice of avalue of M that is large compared with 1/(1−p), e.g. M at least $10^4$ times greater than 1/(1−p), should be made (p-coverage interval). \n",
    "\n",
    "Monte Carlo method provides:\n",
    "\n",
    "1) best estimate\n",
    "\\begin{align}\n",
    "\\mathbf{y} =& mean \\{ \\mathbf{y}^{(k)}, k=1,\\ldots,M\\} \\\\\n",
    "=& \\frac{1}{M} \\sum_{k=1}^M \\mathbf{y}^{(k)}\n",
    "\\end{align}\n",
    "2) uncertainty associated with the best estimate\n",
    "\\begin{align}\n",
    "U_\\mathbf{y} =& cov\\{ \\mathbf{y}^{(k)}, k=1,\\ldots,M\\} \\\\\n",
    "=& \\frac{1}{M-1} \\sum_{k=1}^M (\\mathbf{y}-\\mathbf{y}^{(k)})(\\mathbf{y}-\\mathbf{y}^{(k)})^T\n",
    "\\end{align}\n"
   ]
  },
  {
   "cell_type": "code",
   "execution_count": 69,
   "metadata": {},
   "outputs": [
    {
     "name": "stdout",
     "output_type": "stream",
     "text": [
      "Array of correlation coefficients has size:\n",
      "                                                  (11, 100)\n",
      "Covariance matrix of correlation coefficients for has size:\n",
      "                                                  (11, 11)\n",
      "Sensor indices of location of features for the mean value of Monte Carlo method >sorted_values__amp_from_all_sensors< matrix  \n",
      "\n",
      "[ 2  0 10  0  2  0  2  2  9  3  3  9  3  3  3 10  2  2  3  2  3  7  3  0\n",
      "  3  0  3  0  1  1  8  0  8  0  2  0  3  7  0  0  3  0  2  3  2 10  0  3\n",
      "  0  2  2  2  2  2  3  0  2  2  0  3  0 10  2  3  3  3  3  0  9  3  3  2\n",
      "  0  3  8  2  0  3  3  3  2  0  3  3  3  2  2  3  3  3  3  3  3  0  3  0\n",
      "  3  2  0  0  3  3 10  3  3  3  5  3  0  2 10  0  2  2  2  8  2  2  2  2\n",
      "  2  3  2  2  0  2  2  2  5  9  2 10  2  2  0  3  0  0  0  2  2  9  2  0\n",
      "  8  0  2  2  3  3  0  2  0  3  2  2  2  2  2  2  2  0  2  0  2  2  0  2\n",
      "  7  3  2  1  3  0  2  2  2  0  0  2  2  0  0  0  2  0  2  0  2  2  0  0\n",
      "  2  2  1  0  0  0  3  3  1  5  2  8  3  3  3  3  0  9  0  3  0  3 10  1\n",
      "  0  8  9  3  3  0 10 10  3  1  7  0  1  0  0  7  2  3  0  8 10  0  1  0\n",
      "  0  0  3  1  2 10  9  3  5  2  3  9  7  0  1  1  9  3  1  1  3  3  9  4\n",
      "  6  5  0  0  7  8  9  0 10  1  2  1  3  3  9 10  2  0  0 10  8  7  2  9\n",
      "  9  9  8  8  3  0  8  1  7  7  5 10  0  9  1 10  1  8  0  1 10  1  9  9\n",
      "  1  3  8  1  1  4  7  9 10  3  2  8  2  9  0  7  9  3 10  2  8  0  8  1\n",
      "  1  1  2 10  3  7  2  9 10  8  9  3  1  9  0  1  4  8  7  8  1  3  7  8\n",
      "  6  8  9  1  9  7  9  0  3  1  1  9  7  7  7  9  0  7  2  7  9  7  7  1\n",
      " 10  9  4  1  7  9  6  1  9  7  7  1  2  9  9  8 10 10  9  9  7 10 10  9\n",
      "  7  9  9  7  6 10  8  6  1  8  8  8  9  7 10  7  8  9 10  9  8  1  7  1\n",
      "  0  0  8  4  7 10  0 10  5 10 10  1  8  9  8  7  8 10  7  4  6  8  8  9\n",
      " 10  4 10 10  5  9 10 10  6  9  8 10 10  9  8  7 10  9  8  4  1  8  4 10\n",
      "  8 10  7  1  9 10  7  8  8  7  8  4  7 10  7  9 10  7  8  9]\n",
      "\n",
      "Column indices of location of features for the mean value of Monte Carlo method >sorted_values__amp_from_all_sensors< matrix \n",
      "\n",
      "[25  1 44 18 98 78 97 17 73  2 26  2 36 23 30 41 74 41 40 33  4 14 24 52\n",
      "  7 59  1 53  2  0 60 67 82 95 81 96 56 27 50 56 43 61 35  6 56  6 44 47\n",
      " 43 85 69 12 51 42 60 14 22 52 40 15 41 24 71 18  5 64 72 45 17 25 58 34\n",
      " 51  9 37 72 60 87 12 14 88  3 20 22 78 68  7 88 16 97 19 17 32 36 13 39\n",
      " 10 75 37 93 86 28 34 45 77 73 12 11 58 82  2 86 84 10 43 11 19 32 31 94\n",
      " 92 33 60 29 25 26 61 83 13  1 30  1 59 13 47 34 11 27 35 67 55 44 95  0\n",
      "  1 15 20 73 68 98 21 21  6 82 48 62 63 38 53 79 86 57 49 26 27 39  9 44\n",
      "  1 44 77 16  8 20 46 40 54 32 23 50 76  8 34 76 57 48 89 31 70 66 66 77\n",
      " 47 58  4 99 38 22 53 37 15  8 45 25 41 29 62  3 81 25 82 69 68 80 26 20\n",
      " 85 20 21 92 31 80 22 73 49 37 10 83  1 65 28 11 65 65 30 28 87 92 59 55\n",
      " 72 49 59 13 36 30 28 76 10 91 74 71  9 74 50 44 66 54 31 65 66 27 47  7\n",
      "  1  7 91 62 13 17 18 70 91 28 18  8 21 52  0  0 93 71 64 19  0  7  6 40\n",
      " 13 92 24 30 95 17 14 78  0  6  5 33 19 29 27 15 48 32 33 52 29 18 31 26\n",
      " 47 46 31 43 49  9 67 32 35 48 24 95 78 12 29 15 37 89 27 87 29 89 13 60\n",
      " 93 99 14 32 96  5  8 23 13 35  9 71 57 42 97 29  8 33 45  8 67 63 62 41\n",
      " 33 19 80 56 49 22 16 75 38 82 72 34 28 18  3  6 88 19 28 36 55 21 23 90\n",
      " 18 53  6 83 25 43 41 55 58 34 32 23 15 46 60 26 25  9 65  7  8  7 57 77\n",
      " 81 97 86 37 43 65 45 35 32  7  6 90  5 16 49 17 46 22 37 38 62 70 53 12\n",
      " 73 63 43  1 43 36 87 47  6 55 52 61 40 84  9 38 55 88 41  0 38 94 59 33\n",
      " 99 19 71 76  4 10 50 38 40 88 34  5 90 95 61 48 58 67 48 20 63 54 40 63\n",
      " 47 42 39 64 63 77 44 69 38  4 42 18 49 51 52 62 94 46 68 11]\n"
     ]
    }
   ],
   "source": [
    "#mean value - best estimate\n",
    "\n",
    "corr_array_mean=np.mean(corr_array_MC,axis=0) \n",
    "\n",
    "\n",
    "sum2=0\n",
    "for s in range(trials):\n",
    "    sum2=sum2+np.dot((corr_array_mean-corr_array_MC[s]),(corr_array_mean[p]-corr_array_MC[s]).T)\n",
    "Uy=(1/(trials-1))*sum2\n",
    "\n",
    " # Transforming list of correlation coefficients to nparray\n",
    "  \n",
    "\n",
    "print(\"Array of correlation coefficients has size:\")\n",
    "print(\"                                                 \",corr_array_mean.shape)  \n",
    "print(\"Covariance matrix of correlation coefficients for has size:\")\n",
    "print(\"                                                 \",Uy.shape)  \n",
    "\n",
    "# sensor_n_m is the index of the sensor number.\n",
    "# feature_n_m is the index of the feature number for each sensor number.\n",
    "\n",
    "sensor_n_m, feature_n_m = largest_indices(corr_array_mean, n_of_features_x)\n",
    "print(\"Sensor indices of location of features for the mean value of Monte Carlo method >sorted_values__amp_from_all_sensors< matrix  \\n\")\n",
    "print(sensor_n_m)\n",
    "print(\"\\nColumn indices of location of features for the mean value of Monte Carlo method >sorted_values__amp_from_all_sensors< matrix \\n\")\n",
    "print(feature_n_m)\n"
   ]
  },
  {
   "cell_type": "markdown",
   "metadata": {},
   "source": [
    "Covariances of best estimates (mean values) for all sensors are:"
   ]
  },
  {
   "cell_type": "code",
   "execution_count": 70,
   "metadata": {},
   "outputs": [
    {
     "data": {
      "text/html": [
       "<div>\n",
       "<style scoped>\n",
       "    .dataframe tbody tr th:only-of-type {\n",
       "        vertical-align: middle;\n",
       "    }\n",
       "\n",
       "    .dataframe tbody tr th {\n",
       "        vertical-align: top;\n",
       "    }\n",
       "\n",
       "    .dataframe thead th {\n",
       "        text-align: right;\n",
       "    }\n",
       "</style>\n",
       "<table border=\"1\" class=\"dataframe\">\n",
       "  <thead>\n",
       "    <tr style=\"text-align: right;\">\n",
       "      <th></th>\n",
       "      <th>0</th>\n",
       "      <th>1</th>\n",
       "      <th>2</th>\n",
       "      <th>3</th>\n",
       "      <th>4</th>\n",
       "      <th>5</th>\n",
       "      <th>6</th>\n",
       "      <th>7</th>\n",
       "      <th>8</th>\n",
       "      <th>9</th>\n",
       "      <th>10</th>\n",
       "    </tr>\n",
       "  </thead>\n",
       "  <tbody>\n",
       "    <tr>\n",
       "      <th>0</th>\n",
       "      <td>0.001912</td>\n",
       "      <td>0.000264</td>\n",
       "      <td>0.000036</td>\n",
       "      <td>-0.000131</td>\n",
       "      <td>-0.000042</td>\n",
       "      <td>9.480627e-05</td>\n",
       "      <td>0.000177</td>\n",
       "      <td>-2.134279e-04</td>\n",
       "      <td>0.000028</td>\n",
       "      <td>-0.000091</td>\n",
       "      <td>0.000291</td>\n",
       "    </tr>\n",
       "    <tr>\n",
       "      <th>1</th>\n",
       "      <td>0.000264</td>\n",
       "      <td>0.012267</td>\n",
       "      <td>0.000057</td>\n",
       "      <td>-0.000183</td>\n",
       "      <td>-0.000064</td>\n",
       "      <td>5.988437e-04</td>\n",
       "      <td>-0.000833</td>\n",
       "      <td>-2.783423e-04</td>\n",
       "      <td>0.000488</td>\n",
       "      <td>-0.000080</td>\n",
       "      <td>0.000453</td>\n",
       "    </tr>\n",
       "    <tr>\n",
       "      <th>2</th>\n",
       "      <td>0.000036</td>\n",
       "      <td>0.000057</td>\n",
       "      <td>0.000247</td>\n",
       "      <td>-0.000074</td>\n",
       "      <td>0.000006</td>\n",
       "      <td>3.428930e-05</td>\n",
       "      <td>-0.000003</td>\n",
       "      <td>6.604848e-06</td>\n",
       "      <td>-0.000039</td>\n",
       "      <td>-0.000096</td>\n",
       "      <td>-0.000051</td>\n",
       "    </tr>\n",
       "    <tr>\n",
       "      <th>3</th>\n",
       "      <td>-0.000131</td>\n",
       "      <td>-0.000183</td>\n",
       "      <td>-0.000074</td>\n",
       "      <td>0.003619</td>\n",
       "      <td>0.000041</td>\n",
       "      <td>3.874885e-04</td>\n",
       "      <td>0.000379</td>\n",
       "      <td>-2.015606e-04</td>\n",
       "      <td>-0.000287</td>\n",
       "      <td>0.000021</td>\n",
       "      <td>0.000190</td>\n",
       "    </tr>\n",
       "    <tr>\n",
       "      <th>4</th>\n",
       "      <td>-0.000042</td>\n",
       "      <td>-0.000064</td>\n",
       "      <td>0.000006</td>\n",
       "      <td>0.000041</td>\n",
       "      <td>0.003137</td>\n",
       "      <td>-2.522728e-04</td>\n",
       "      <td>-0.000305</td>\n",
       "      <td>-5.555089e-05</td>\n",
       "      <td>-0.000409</td>\n",
       "      <td>-0.000175</td>\n",
       "      <td>0.000206</td>\n",
       "    </tr>\n",
       "    <tr>\n",
       "      <th>5</th>\n",
       "      <td>0.000095</td>\n",
       "      <td>0.000599</td>\n",
       "      <td>0.000034</td>\n",
       "      <td>0.000387</td>\n",
       "      <td>-0.000252</td>\n",
       "      <td>1.638689e-02</td>\n",
       "      <td>0.000549</td>\n",
       "      <td>-1.094079e-07</td>\n",
       "      <td>-0.000629</td>\n",
       "      <td>0.000483</td>\n",
       "      <td>-0.000353</td>\n",
       "    </tr>\n",
       "    <tr>\n",
       "      <th>6</th>\n",
       "      <td>0.000177</td>\n",
       "      <td>-0.000833</td>\n",
       "      <td>-0.000003</td>\n",
       "      <td>0.000379</td>\n",
       "      <td>-0.000305</td>\n",
       "      <td>5.492542e-04</td>\n",
       "      <td>0.012514</td>\n",
       "      <td>-7.886405e-04</td>\n",
       "      <td>-0.000658</td>\n",
       "      <td>0.000249</td>\n",
       "      <td>0.000571</td>\n",
       "    </tr>\n",
       "    <tr>\n",
       "      <th>7</th>\n",
       "      <td>-0.000213</td>\n",
       "      <td>-0.000278</td>\n",
       "      <td>0.000007</td>\n",
       "      <td>-0.000202</td>\n",
       "      <td>-0.000056</td>\n",
       "      <td>-1.094079e-07</td>\n",
       "      <td>-0.000789</td>\n",
       "      <td>1.620288e-02</td>\n",
       "      <td>-0.000162</td>\n",
       "      <td>-0.000014</td>\n",
       "      <td>0.000113</td>\n",
       "    </tr>\n",
       "    <tr>\n",
       "      <th>8</th>\n",
       "      <td>0.000028</td>\n",
       "      <td>0.000488</td>\n",
       "      <td>-0.000039</td>\n",
       "      <td>-0.000287</td>\n",
       "      <td>-0.000409</td>\n",
       "      <td>-6.290402e-04</td>\n",
       "      <td>-0.000658</td>\n",
       "      <td>-1.619121e-04</td>\n",
       "      <td>0.010471</td>\n",
       "      <td>-0.001064</td>\n",
       "      <td>-0.000772</td>\n",
       "    </tr>\n",
       "    <tr>\n",
       "      <th>9</th>\n",
       "      <td>-0.000091</td>\n",
       "      <td>-0.000080</td>\n",
       "      <td>-0.000096</td>\n",
       "      <td>0.000021</td>\n",
       "      <td>-0.000175</td>\n",
       "      <td>4.834979e-04</td>\n",
       "      <td>0.000249</td>\n",
       "      <td>-1.360325e-05</td>\n",
       "      <td>-0.001064</td>\n",
       "      <td>0.010514</td>\n",
       "      <td>-0.000336</td>\n",
       "    </tr>\n",
       "    <tr>\n",
       "      <th>10</th>\n",
       "      <td>0.000291</td>\n",
       "      <td>0.000453</td>\n",
       "      <td>-0.000051</td>\n",
       "      <td>0.000190</td>\n",
       "      <td>0.000206</td>\n",
       "      <td>-3.533056e-04</td>\n",
       "      <td>0.000571</td>\n",
       "      <td>1.134001e-04</td>\n",
       "      <td>-0.000772</td>\n",
       "      <td>-0.000336</td>\n",
       "      <td>0.012053</td>\n",
       "    </tr>\n",
       "  </tbody>\n",
       "</table>\n",
       "</div>"
      ],
      "text/plain": [
       "           0         1         2         3         4             5         6  \\\n",
       "0   0.001912  0.000264  0.000036 -0.000131 -0.000042  9.480627e-05  0.000177   \n",
       "1   0.000264  0.012267  0.000057 -0.000183 -0.000064  5.988437e-04 -0.000833   \n",
       "2   0.000036  0.000057  0.000247 -0.000074  0.000006  3.428930e-05 -0.000003   \n",
       "3  -0.000131 -0.000183 -0.000074  0.003619  0.000041  3.874885e-04  0.000379   \n",
       "4  -0.000042 -0.000064  0.000006  0.000041  0.003137 -2.522728e-04 -0.000305   \n",
       "5   0.000095  0.000599  0.000034  0.000387 -0.000252  1.638689e-02  0.000549   \n",
       "6   0.000177 -0.000833 -0.000003  0.000379 -0.000305  5.492542e-04  0.012514   \n",
       "7  -0.000213 -0.000278  0.000007 -0.000202 -0.000056 -1.094079e-07 -0.000789   \n",
       "8   0.000028  0.000488 -0.000039 -0.000287 -0.000409 -6.290402e-04 -0.000658   \n",
       "9  -0.000091 -0.000080 -0.000096  0.000021 -0.000175  4.834979e-04  0.000249   \n",
       "10  0.000291  0.000453 -0.000051  0.000190  0.000206 -3.533056e-04  0.000571   \n",
       "\n",
       "               7         8         9        10  \n",
       "0  -2.134279e-04  0.000028 -0.000091  0.000291  \n",
       "1  -2.783423e-04  0.000488 -0.000080  0.000453  \n",
       "2   6.604848e-06 -0.000039 -0.000096 -0.000051  \n",
       "3  -2.015606e-04 -0.000287  0.000021  0.000190  \n",
       "4  -5.555089e-05 -0.000409 -0.000175  0.000206  \n",
       "5  -1.094079e-07 -0.000629  0.000483 -0.000353  \n",
       "6  -7.886405e-04 -0.000658  0.000249  0.000571  \n",
       "7   1.620288e-02 -0.000162 -0.000014  0.000113  \n",
       "8  -1.619121e-04  0.010471 -0.001064 -0.000772  \n",
       "9  -1.360325e-05 -0.001064  0.010514 -0.000336  \n",
       "10  1.134001e-04 -0.000772 -0.000336  0.012053  "
      ]
     },
     "execution_count": 70,
     "metadata": {},
     "output_type": "execute_result"
    }
   ],
   "source": [
    "Uy=pd.DataFrame(Uy)\n",
    "Uy"
   ]
  },
  {
   "cell_type": "code",
   "execution_count": 71,
   "metadata": {},
   "outputs": [
    {
     "data": {
      "application/vnd.jupyter.widget-view+json": {
       "model_id": "ac5645af49fa4606b1fa4377d804ec3e",
       "version_major": 2,
       "version_minor": 0
      },
      "text/plain": [
       "interactive(children=(IntSlider(value=0, description='num_of_sensors', max=10), Output()), _dom_classes=('widg…"
      ]
     },
     "metadata": {},
     "output_type": "display_data"
    },
    {
     "data": {
      "text/plain": [
       "<function __main__.MC_correlation_mean_value(num_of_sensors)>"
      ]
     },
     "execution_count": 71,
     "metadata": {},
     "output_type": "execute_result"
    }
   ],
   "source": [
    "import ipywidgets as widgets\n",
    "from ipywidgets import interact, interact_manual\n",
    "def MC_correlation_mean_value(num_of_sensors):\n",
    "    \n",
    "    plt.figure(figsize=(20,10))\n",
    "    plt.errorbar(range(sorted_values__amp_from_all_sensors[0].shape[1]),corr_array_mean[num_of_sensors],fmt=\"o-\")\n",
    "    plt.xlabel('Column indices - Amplitudes')\n",
    "    plt.ylabel('Correlation coefficient')\n",
    "    plt.title('Mean values of correlation coefficients for all sensors')\n",
    "interact(MC_correlation_mean_value,num_of_sensors=widgets.IntSlider(min=0, max=10, step=1))"
   ]
  },
  {
   "cell_type": "markdown",
   "metadata": {},
   "source": [
    "Representation of sensors in percentages for the best estimate has been given in the list percentage_m:"
   ]
  },
  {
   "cell_type": "code",
   "execution_count": 72,
   "metadata": {},
   "outputs": [
    {
     "name": "stdout",
     "output_type": "stream",
     "text": [
      "<class 'pandas.core.frame.DataFrame'> \n",
      "\n",
      "Number of features from sensor  0 is:  82 or  16.40 %\n",
      "Number of features from sensor  1 is:  43 or  8.60 %\n",
      "Number of features from sensor  2 is:  84 or  16.80 %\n",
      "Number of features from sensor  3 is:  78 or  15.60 %\n",
      "Number of features from sensor  4 is:  10 or  2.00 %\n",
      "Number of features from sensor  5 is:   8 or  1.60 %\n",
      "Number of features from sensor  6 is:   7 or  1.40 %\n",
      "Number of features from sensor  7 is:  42 or  8.40 %\n",
      "Number of features from sensor  8 is:  45 or  9.00 %\n",
      "Number of features from sensor  9 is:  53 or  10.60 %\n",
      "Number of features from sensor 10 is:  48 or  9.60 %\n",
      "----------------------------------------------------\n",
      "                                             100.00\n"
     ]
    }
   ],
   "source": [
    "abs_top_n_together_matrix_mean=np.zeros((sorted_values__amp_from_all_sensors[0].shape[0],n_features_for_select))\n",
    "percentage_m,abs_top_n_together_matrix_mean=percentage(sensor_n_m,feature_n_m,sorted_values__amp_from_all_sensors)\n"
   ]
  },
  {
   "cell_type": "markdown",
   "metadata": {},
   "source": [
    "###  Weighted correlation\n",
    "\n",
    "A weighted correlation allows application of a weight, or relative significance to each value comparison. Correlation comparisons with a higher value for their weight are considered as more significant when compared to the other value comparisons. Weighted correlation requires following arguments:\n",
    "\n",
    "- x and y are - values being compared.\n",
    "- w is the weight applied to each comparison. With these arguments, it is possible to calculate:\n",
    "\n",
    "weighted mean:\n",
    "$$m(x;w)=\\frac {\\sum_{i}w_i*x_i}{\\sum_{i}w_i}$$ \n",
    "weighted covariance:\n",
    "$$cov(x,y;w)=\\frac {\\sum _{i}w_i(x_i-m(x;w))(y_i-m(y;w))}{\\sum _{i}w_i} $$\n",
    "weighted correlation:\n",
    "$$corr(x,y;w)=\\frac{cov(x,y;w)}{\\sqrt{cov(x,x;w)*cov(y,y;w))}}$$\n",
    "\n",
    "After application of MC method, estimates of amplitudes are correlated with target vector, and correlation is weighted with weight factor:\n",
    "$$ w_i= \\frac {1}{u²(\\hat{y_i})}$$"
   ]
  },
  {
   "cell_type": "markdown",
   "metadata": {},
   "source": [
    "Weighted correlation was performed on data obtained from DFT. Correlation of amplitudes and train_vector has been weighted by uncertainties of amplitudes."
   ]
  },
  {
   "cell_type": "code",
   "execution_count": 73,
   "metadata": {},
   "outputs": [],
   "source": [
    "#Calculating weights from diagonal elements of uncertainty matrix\n",
    "# W -list of eleven np.arrays sized (number of cycles, N% of amplitudes) containing weight factors\n",
    "W=[0]*len(sorted_values__amp_from_all_sensors)\n",
    "B=np.zeros((sorted_values__amp_from_all_sensors[0].shape))\n",
    "for k in range(len(sorted_values__amp_from_all_sensors)):\n",
    "    for i in range (sorted_values__amp_from_all_sensors[0].shape[0]):\n",
    "        B[i]=1/((sorted_uncer_from_all_sensors_a[k][i,:])) #elements in u_a already squared\n",
    "    W[k]=B"
   ]
  },
  {
   "cell_type": "code",
   "execution_count": 74,
   "metadata": {},
   "outputs": [],
   "source": [
    "#weighted mean\n",
    "def m(x, w):\n",
    "    \"\"\"Weighted Mean\"\"\"\n",
    "    return np.sum(x * w) / np.sum(w)\n",
    "#weighted covariance\n",
    "def cov(x, y, w):\n",
    "    \"\"\"Weighted Covariance\"\"\"\n",
    "    return np.sum(w * (x - m(x, w)) * (y - m(y, w))) / np.sum(w)\n",
    "#weighted correlation\n",
    "def corr(x, y, w):\n",
    "    \"\"\"Weighted Correlation\"\"\"\n",
    "    return cov(x, y, w) / np.sqrt(cov(x, x, w) * cov(y, y, w))"
   ]
  },
  {
   "cell_type": "markdown",
   "metadata": {},
   "source": [
    "Implementing functions m, cov and corr for the largest correlation coefficients:"
   ]
  },
  {
   "cell_type": "code",
   "execution_count": 75,
   "metadata": {},
   "outputs": [
    {
     "name": "stdout",
     "output_type": "stream",
     "text": [
      "How many features out of 1100 you want to select (recommended is 500): 500\n",
      "\n",
      "Dimension of target matrix is:\n",
      "                                                  (5347, 1)\n",
      "Dimension of amplitude matrix for one sensor is:\n",
      "                                                  (5347, 100)\n",
      "Array of weighted correlation coefficients has size:\n",
      "                                                  (11, 100)\n",
      "Sensor indices of location of features in >sorted_values__amp_from_all_sensors< matrix: \n",
      "\n",
      "[ 7 10 10  8  8  2  9  0  0  1  0  7  2  3  2  9  2  3  5  3  1  3  7  3\n",
      "  3  3  9 10  0  5  7  0  0  0  0  2  3  0  2  0  9  3  3  2  7  3  3  3\n",
      "  3  0  0  3  3  3  3  0  3  2  0  3  2  3  3  0  2  3  9  2  2  0  2  0\n",
      "  8  2  0 10  2  7  2  3  3  2  2  0  3  3  3  3  1  8  3  0  2  3  1  2\n",
      "  3  3  2  9  3  3  0  3  0  3  8 10 10  0  2  3  2  3  3  3  3  0  7  3\n",
      "  1  0  3  0  3  0  3  9 10  2  7  0  1  3  1 10  3  2  9  3  7  0  5  9\n",
      "  1 10 10  2  2  2  1 10  7  2  2  3  7  8  2  2  8  9  2  2  2  2  2  2\n",
      "  0  2  0 10  1  1  2  2  7  7  0  3  2  0  0  2  2  0  3  0  0  2  2  7\n",
      "  1  3  2  1  0  7  0  7  3  2  2  2  0  2  8  2  2  3  2  9  0  0  2  7\n",
      "  2  2  0  0  2  5  3  0  8  7  8  2  0  0  2  3  2  2  7  9  2 10  0  7\n",
      " 10  0  2  0  2  3  0  2  0  0  0  7  2  7  2  7  9  2  0  1  3  2  7  7\n",
      "  7  0  1  7  2  7  3  7  3  7  3  7  7  7  0  7  7  7  0  1  3  1  9  0\n",
      "  3  3  7  8  7  7  5  0  3 10  7  7  0  7  0  7  0  0 10  3  7  1  7  7\n",
      "  7  7  0  7  7  7  2  7  2  7  7 10  7  9  1  8  3  1  9  0  8 10  9  3\n",
      "  7  7  2  0  7 10 10  9  1  7  7  1  4  1  8  3 10  8  1  9  9 10  0  0\n",
      "  9  6  1 10  9  0  9  7 10  3  9  1  7  8  9  0  2 10 10  1  9  1  2  1\n",
      "  9 10  1 10  8  9  7  9  9  9  8  7  9  6  3  9  8  7  8  7  8  8 10  7\n",
      "  2  8 10  8 10  9  8  8  5  9  0  1  8 10  1 10 10 10  3  7  6 10  0  0\n",
      "  8  9  8 10  8  8 10 10  1  9  9  9  8  7  9 10  9  8  8  8 10  8  9 10\n",
      "  3  8  8  1  3  8  8  8  7  6  1  1  4 10  7 10  3  6  0  4  8  4  0  1\n",
      "  9  9 10  3  2  8  4  2  8 10  8  8  1  8  8  8  9  7  8  2]\n",
      "\n",
      "Column indices of location of features in >sorted_values__amp_from_all_sensors< matrix: \n",
      "\n",
      "[27 44 41 60 82 25 73  1 18  2 78 14 98 80 97  2 17  2 12 26  0 36 47 30\n",
      " 40 23 17  6 52 13  8 59 53 67 95 74 24 56 41 96 37 56  4 33 62  7  1 43\n",
      " 72 61 50 64 47 60 87 43 58 81 44  6 35 88 97 40 56 78 66 85 69 41 12 45\n",
      " 37 51 14 24 42 35 22 25 15 52 71 51 18 86  5 77 37 41 73 60 34  9 16 72\n",
      " 14 12 88 44 98 20 93 22  3 32 11 34 87 36 68 45  7 19 82 16 17 39 87 13\n",
      "  4 58 68 37 28 47 10 71  2 75 67 86 20 11 15 91 62 82 80 33 53 25 10  1\n",
      " 59  1 73 84 43 10 50 50 11 19 32 34  1 25 31 94  1 25 92 60 83 29 26 61\n",
      " 35 30 27 26 31 44 13 59 69 78 11 44 67 21 15 55 95 76 53 57  0 20 73 10\n",
      "  8 52 21 65  6 58 34 36 69 48 62 63 26 38 28 79 53 92 86 21 77 66 49 13\n",
      " 27 44  9 99 39  8  8 20 90 90 20 77 32 23 89 41 46 40 70 28 54 30 48 38\n",
      " 22 31 50  8 76 37 68 57 81 82 38 73 70 97 66 98 16 47 22 13 29 58 79 34\n",
      " 84 80 28 43 45 32  3 52 49 56 74 28 37 92 83  9 44 83 85 78 31  1 92 72\n",
      " 65 76 49 19 46 41  7 55 89 65 72 48 92 50 65 31 28 30 18 59 59 52 86 25\n",
      " 22 94 49 95 89 39 91 91 65 77 23 35 85 29 48 30 54 47 47 74 17 60 18 66\n",
      " 65 21 36 91 15 33 99 97 99 54 19 93  7 67 62 27 29 31 43 32 31 19 62 70\n",
      " 77  1 27 94 86 71 84  7 96 21 26 57 81 32 88 64 18 88 90 60 95 49 93 18\n",
      "  0  0 72 32 95 40 33 53 65 49 86 18 13 33 95 58 94  6  0 45 75 14 27 55\n",
      "  6 35 71 24 74 60 29 59  5 55 17 90 69 15 82 76 86 77 46  0 41 70 33 19\n",
      " 83 62 64 72 45 78 49 81 56 34 46 67 70 71 43 52 23 46 72 96 57 33 63 55\n",
      " 96 54 43 70 71 85 55 67 17 35 29 23 93 63 16 58 38 43 89 94 61  9 29 55\n",
      " 38 12 36 48 78 81 92 24 63 47 73 87 83 48 68 13 42  5 65 87]\n"
     ]
    }
   ],
   "source": [
    "n_features_for_select_w=0\n",
    "for i in range(len(sorted_values__amp_from_all_sensors)):\n",
    "    n_features_for_select_w=n_features_for_select_w+int(len(sorted_values__amp_from_all_sensors[i][0,:]))\n",
    "\n",
    "# Defining how much of features with biggest correllation coeff. will be selected.\n",
    "n_of_features_w = int(input(\"How many features out of %s you want to select (recommended is 500): \" % n_features_for_select_w))\n",
    "\n",
    "\n",
    "target_matrix = pd.DataFrame(target)        # Transforming list \"target\" into data frame \"target_matrix\"\n",
    "\n",
    "print(\"\\nDimension of target matrix is:\")\n",
    "print(\"                                                 \", target_train_vector.shape)\n",
    "print(\"Dimension of amplitude matrix for one sensor is:\")\n",
    "print(\"                                                 \", sorted_values__amp_from_all_sensors[0][:,:].shape)\n",
    "\n",
    "weighted_mean=list(range(11))                      # Making list for weighted mean, covariance andf correlation coefficients.\n",
    "weighted_covariance=list(range(11))\n",
    "weighted_corelation=list(range(11))\n",
    "for j in range(11):                       # Making sublists \" for each sensor.\n",
    "    \n",
    "    weighted_mean[j]=list(range(round((N/100.0)*n_of_samples/2)))\n",
    "    weighted_covariance[j]=list(range(round((N/100.0)*n_of_samples/2)))\n",
    "    weighted_corelation[j]=list(range(round((N/100.0)*n_of_samples/2)))\n",
    "# Calculating weighted correlation coefficients for each column of each sensor with respect to target.\n",
    "for j in range(11):\n",
    "    for i in range(round((N/100.0)*n_of_samples/2)):\n",
    "        weighted_mean[j][i]=m(sorted_values__amp_from_all_sensors[j][:,i],W[j][:,i])\n",
    "        weighted_covariance[j][i]=cov(sorted_values__amp_from_all_sensors[j][:,i],target_train_vector[0],W[j][:,i])\n",
    "        weighted_corelation[j][i]=corr(sorted_values__amp_from_all_sensors[j][:,i],target_train_vector[0],W[j][:,i])\n",
    "    \n",
    "\n",
    "corr_array_w=np.array(weighted_corelation) # Transforming list of correlation coefficients to nparray\n",
    "\n",
    "print(\"Array of weighted correlation coefficients has size:\")\n",
    "print(\"                                                 \",corr_array_w.shape)  \n",
    "\n",
    "sensor_n_w, feature_n_w = largest_indices(corr_array_w, n_of_features)\n",
    "\n",
    "print(\"Sensor indices of location of features in >sorted_values__amp_from_all_sensors< matrix: \\n\")\n",
    "print(sensor_n_w)\n",
    "print(\"\\nColumn indices of location of features in >sorted_values__amp_from_all_sensors< matrix: \\n\")\n",
    "print(feature_n_w)"
   ]
  },
  {
   "cell_type": "markdown",
   "metadata": {},
   "source": [
    "Representation of sensors in percentages for each tral has been given  in the list percentage_w:"
   ]
  },
  {
   "cell_type": "code",
   "execution_count": 76,
   "metadata": {},
   "outputs": [
    {
     "name": "stdout",
     "output_type": "stream",
     "text": [
      "<class 'pandas.core.frame.DataFrame'> \n",
      "\n",
      "Number of features from sensor  0 is:  76 or  15.20 %\n",
      "Number of features from sensor  1 is:  38 or  7.60 %\n",
      "Number of features from sensor  2 is:  80 or  16.00 %\n",
      "Number of features from sensor  3 is:  77 or  15.40 %\n",
      "Number of features from sensor  4 is:   5 or  1.00 %\n",
      "Number of features from sensor  5 is:   6 or  1.20 %\n",
      "Number of features from sensor  6 is:   5 or  1.00 %\n",
      "Number of features from sensor  7 is:  72 or  14.40 %\n",
      "Number of features from sensor  8 is:  50 or  10.00 %\n",
      "Number of features from sensor  9 is:  45 or  9.00 %\n",
      "Number of features from sensor 10 is:  46 or  9.20 %\n",
      "----------------------------------------------------\n",
      "                                             100.00\n"
     ]
    }
   ],
   "source": [
    "abs_top_n_together_matrix_w=np.zeros((sorted_values__amp_from_all_sensors[0].shape[0],n_features_for_select))\n",
    "percentage_w,abs_top_n_together_matrix_w=percentage(sensor_n_w,feature_n_w,sorted_values__amp_from_all_sensors)"
   ]
  },
  {
   "cell_type": "markdown",
   "metadata": {},
   "source": [
    "The plot shows comparison of frequency of occurrences for the features with highest correlation coefficients in case of methods: Weighted correlation and Pearson correlation performed for the specific number of Monte Carlo trials."
   ]
  },
  {
   "cell_type": "code",
   "execution_count": 77,
   "metadata": {},
   "outputs": [
    {
     "data": {
      "application/vnd.jupyter.widget-view+json": {
       "model_id": "d70bc80228274b71b6627187c1c7e7fb",
       "version_major": 2,
       "version_minor": 0
      },
      "text/plain": [
       "interactive(children=(IntSlider(value=0, description='trials', max=99), Output()), _dom_classes=('widget-inter…"
      ]
     },
     "metadata": {},
     "output_type": "display_data"
    },
    {
     "data": {
      "text/plain": [
       "<function __main__.MC_plot3(trials)>"
      ]
     },
     "execution_count": 77,
     "metadata": {},
     "output_type": "execute_result"
    }
   ],
   "source": [
    "def MC_plot3(trials):\n",
    "    bins = sorted_values__amp_from_all_sensors[0].shape[1]\n",
    "    plt.figure(figsize=(15,7))\n",
    "    plt.hist(feature_n_w, bins, alpha=0.5, label='Weighted_corr')\n",
    "    plt.xlabel(\"Columns (1-100)\")\n",
    "    plt.ylabel(\"Frequency\")\n",
    "    plt.hist(feature_n_x[trials], bins, alpha=0.5, label='Monte Carlo: Pearson_corr')\n",
    "    plt.title(\"Frequency of column indices of features with biggest correlation for all sensors\")\n",
    "    plt.legend(loc='upper right')\n",
    "    plt.show()\n",
    "\n",
    "interact(MC_plot3,trials=widgets.IntSlider(min=0, max=99, step=1))"
   ]
  },
  {
   "cell_type": "markdown",
   "metadata": {},
   "source": [
    "The plot shows comparison of frequency of occurrences for the features with highest correlation coefficients in case of methods: Weighted correlation and Pearson correlation (for N% of amplitudes only). "
   ]
  },
  {
   "cell_type": "code",
   "execution_count": 78,
   "metadata": {},
   "outputs": [
    {
     "data": {
      "image/png": "[encoded data removed]",
      "text/plain": [
       "<Figure size 1080x504 with 1 Axes>"
      ]
     },
     "metadata": {
      "needs_background": "light"
     },
     "output_type": "display_data"
    }
   ],
   "source": [
    "\n",
    "    bins = sorted_values__amp_from_all_sensors[0].shape[1]\n",
    "    plt.figure(figsize=(15,7))\n",
    "    plt.hist(feature_n_w, bins, alpha=0.5, label='Weighted_corr')\n",
    "    plt.hist(feature_n, bins, alpha=0.5, label='Pearson_corr - amplitudes only')\n",
    "    plt.xlabel(\"Columns (1-100)\")\n",
    "    plt.ylabel(\"Frequency\")\n",
    "    plt.title(\"Frequency of column indices of features with biggest correlation for all sensors\")\n",
    "    plt.legend(loc='upper right')\n",
    "    plt.show()\n",
    "\n"
   ]
  },
  {
   "cell_type": "code",
   "execution_count": 79,
   "metadata": {},
   "outputs": [
    {
     "data": {
      "application/vnd.jupyter.widget-view+json": {
       "model_id": "7885d009ad4d4c60a597e399d8c937c0",
       "version_major": 2,
       "version_minor": 0
      },
      "text/plain": [
       "interactive(children=(IntSlider(value=0, description='runs', max=99), Output()), _dom_classes=('widget-interac…"
      ]
     },
     "metadata": {},
     "output_type": "display_data"
    },
    {
     "data": {
      "text/plain": [
       "<function __main__.MC_plot2(runs)>"
      ]
     },
     "execution_count": 79,
     "metadata": {},
     "output_type": "execute_result"
    }
   ],
   "source": [
    "def MC_plot2(runs):\n",
    "    bins = len(sensor)\n",
    "    plt.figure(figsize=(15,7))\n",
    "    plt.hist(sensor_n, bins, alpha=0.5, label='Pearson_corr - amplitudes only')\n",
    "    plt.xlabel(\"Sensor (0-10)\")\n",
    "    plt.ylabel(\"Frequency\") \n",
    "    plt.title(\"Frequency of sensor indices of features with biggest correlation \")\n",
    "    plt.hist(sensor_n_x[runs], bins, alpha=0.5, label='Monte Carlo: Pearson_corr')\n",
    "    plt.hist(sensor_n_w, bins, alpha=0.5, label='Weighted_corr')\n",
    "    plt.legend(loc='upper right')\n",
    "    plt.show()\n",
    "interact(MC_plot2,runs=widgets.IntSlider(min=0, max=99, step=1))"
   ]
  },
  {
   "cell_type": "markdown",
   "metadata": {},
   "source": [
    "From these histograms and percentages, conclusion about how valuable is each of the sensors for this kind of prediction. Differences in contributions are visualised in a bar chart."
   ]
  },
  {
   "cell_type": "code",
   "execution_count": 80,
   "metadata": {},
   "outputs": [
    {
     "name": "stdout",
     "output_type": "stream",
     "text": [
      "Percentages of features from each sensor are:\n"
     ]
    },
    {
     "data": {
      "application/vnd.jupyter.widget-view+json": {
       "model_id": "c0e096bac4a146938bcc971b656773b0",
       "version_major": 2,
       "version_minor": 0
      },
      "text/plain": [
       "interactive(children=(IntSlider(value=0, description='trials', max=99), Output()), _dom_classes=('widget-inter…"
      ]
     },
     "metadata": {},
     "output_type": "display_data"
    },
    {
     "data": {
      "text/plain": [
       "<function __main__.Pie_MC(trials)>"
      ]
     },
     "execution_count": 80,
     "metadata": {},
     "output_type": "execute_result"
    }
   ],
   "source": [
    "import matplotlib as mpl\n",
    "%matplotlib inline\n",
    "mpl.rcParams['font.size'] = 9.0\n",
    "labels = 'Microphone','Vibration plain bearing','Vibration piston rod','Vibration ball bearing', 'Axial force','Pressure','Velocity','Active current','Motor current phase 1','Motor current phase 2','Motor current phase 3'\n",
    "print(\"Percentages of features from each sensor are:\")\n",
    "\n",
    "def Pie_MC(trials):   \n",
    "\n",
    "    fig1,(ax1,ax2,ax3) = plt.subplots(1,3, figsize=(20,10))\n",
    "   \n",
    "    ax1.pie(percentage_p, labels=labels, autopct='%1.1f%%', shadow=True, startangle=90)\n",
    "    ax1.axis('equal')\n",
    "    ax1.legend(title=\"Pearson_corr - amplitudes only\")\n",
    "    ax2.pie(percentage_w,labels=labels, autopct='%1.1f%%', shadow=True, startangle=90 )\n",
    "    ax2.axis('equal')\n",
    "    ax2.legend(title=\"Weighted_corr\")\n",
    "    ax3.pie(percentage_x[trials], labels=labels, autopct='%1.1f%%', shadow=True, startangle=90)\n",
    "    ax3.axis('equal')\n",
    "    ax3.legend(title=\"Monte Carlo: Pearson_corr\")\n",
    "# plot each pie chart in a separate subplot\n",
    "\n",
    "    plt.show()\n",
    "interact(Pie_MC,trials=widgets.IntSlider(min=0, max=99, step=1))"
   ]
  },
  {
   "cell_type": "markdown",
   "metadata": {},
   "source": [
    "\n",
    "In the case of function *largest_indices* whose outputs are sensor and column indices of features with highest Pearson correlation, the of frequency of occurence of every sensor in M MC trials has been calculated and stored in `sensor_count_MC`.\n"
   ]
  },
  {
   "cell_type": "code",
   "execution_count": 81,
   "metadata": {},
   "outputs": [
    {
     "data": {
      "image/png": "[encoded data removed]",
      "text/plain": [
       "<Figure size 1080x504 with 1 Axes>"
      ]
     },
     "metadata": {
      "needs_background": "light"
     },
     "output_type": "display_data"
    }
   ],
   "source": [
    "sensor_count_MC=np.zeros((trials,len(sensor)))\n",
    "sensor_count_Pear=np.zeros((len(sensor)))\n",
    "sensor_count_Weighted=np.zeros((len(sensor)))\n",
    "for a in range(trials):\n",
    "    #counting the frequency of occurences for every sensor in trial and storing in  sensor_count_MC list.\n",
    "    sensor_count_MC[a,:]=np.bincount(sensor_n_x[a], weights=None, minlength=0)\n",
    "\n",
    "sensor_count_df=pd.DataFrame(sensor_count_MC)\n",
    "mean_val=sensor_count_df.mean(axis=0)\n",
    "std_val=sensor_count_df.std(axis=0)\n",
    "#counting the frequency of occurences for every sensor for two others methods.\n",
    "sensor_count_Pear=np.bincount(sensor_n, weights=None, minlength=0)\n",
    "sensor_count_Weighted=np.bincount(sensor_n_w, weights=None, minlength=0)\n",
    "\n",
    "plt.figure(figsize=(15,7))\n",
    "ax = plt.subplot(111)\n",
    "\n",
    "w = 0.3\n",
    "ax.bar(np.arange(11)-w,mean_val,yerr=std_val, width=w, color='peachpuff', align='center',label=\"Monte Carlo results from the mean value of counted sensor indices\")\n",
    "ax.bar(np.arange(11), sensor_count_Pear,width=w, color='lightsteelblue', align='center',label=\"Pearson_corr - amplitudes only\")\n",
    "ax.bar(np.arange(11)+w, sensor_count_Weighted, width=w, color='g', align='center',label=\"Weighted correlation\")\n",
    "\n",
    "ax.autoscale(tight=True)\n",
    "plt.legend()\n",
    "\n",
    "plt.show()\n"
   ]
  },
  {
   "cell_type": "code",
   "execution_count": 82,
   "metadata": {},
   "outputs": [
    {
     "data": {
      "image/png": "[encoded data removed]",
      "text/plain": [
       "<Figure size 1080x504 with 1 Axes>"
      ]
     },
     "metadata": {
      "needs_background": "light"
     },
     "output_type": "display_data"
    }
   ],
   "source": [
    "sensor_count_MC=np.zeros((trials,len(sensor)))\n",
    "sensor_count_Mean=np.zeros((len(sensor)))\n",
    "for a in range(trials):\n",
    "    #counting the frequency of occurences for every sensor in trial and storing in  sensor_count_MC list.\n",
    "    sensor_count_MC[a,:]=np.bincount(sensor_n_x[a], weights=None, minlength=0)\n",
    "\n",
    "sensor_count_df=pd.DataFrame(sensor_count_MC)\n",
    "mean_val=sensor_count_df.mean(axis=0)\n",
    "std_val=sensor_count_df.std(axis=0)\n",
    "#counting the frequency of occurences for every sensor for two others methods.\n",
    "\n",
    "sensor_count_Mean=np.bincount(sensor_n_m, weights=None, minlength=0)\n",
    "\n",
    "\n",
    "plt.figure(figsize=(15,7))\n",
    "ax = plt.subplot(111)\n",
    "\n",
    "w = 0.3\n",
    "ax.bar(np.arange(11)-w,mean_val,yerr=std_val, width=w, color='peachpuff', align='center',label=\"Monte Carlo results from the mean value of counted sensor indices\")\n",
    "ax.bar(np.arange(11), sensor_count_Mean,width=w, color='lightsteelblue', align='center',label=\"Monte Carlo results from the mean value of correlation coefficients\")\n",
    "\n",
    "\n",
    "ax.autoscale(tight=True)\n",
    "plt.legend()\n",
    "\n",
    "plt.show()\n",
    "\n"
   ]
  },
  {
   "cell_type": "markdown",
   "metadata": {},
   "source": [
    "We can also visualise some of the features, and see how they are correlated to each other and to the target vector.  "
   ]
  },
  {
   "cell_type": "code",
   "execution_count": 83,
   "metadata": {},
   "outputs": [
    {
     "name": "stdout",
     "output_type": "stream",
     "text": [
      "Enter indices of two features out of 500 for ploting (0-499): 55 56\n"
     ]
    },
    {
     "data": {
      "application/vnd.jupyter.widget-view+json": {
       "model_id": "97305e1851da415fb87dc0acfd502c52",
       "version_major": 2,
       "version_minor": 0
      },
      "text/plain": [
       "interactive(children=(IntSlider(value=0, description='trials', max=99), Output()), _dom_classes=('widget-inter…"
      ]
     },
     "metadata": {},
     "output_type": "display_data"
    },
    {
     "data": {
      "text/plain": [
       "<function __main__.Compare_two(trials)>"
      ]
     },
     "execution_count": 83,
     "metadata": {},
     "output_type": "execute_result"
    }
   ],
   "source": [
    "x1, x2 = input(\"Enter indices of two features out of %s for ploting (0-499): \" % n_of_features).split()\n",
    "x1, x2 = [int(x1), int(x2)]\n",
    "def Compare_two(trials): \n",
    "\n",
    "    plt.subplot\n",
    " \n",
    "    plt.figure(figsize=(12,6))\n",
    "    plt.scatter(abs_top_n_together_matrix[x1], abs_top_n_together_matrix[x2],c=target_train_vector[0], cmap=\"viridis\")\n",
    "    plt.xlabel('Feature number %s' % x1 ,fontsize=12)\n",
    "    plt.title(\"Pearson_corr - amplitudes only\")\n",
    "    plt.ylabel('Feature number %s' % x2 ,fontsize=12)\n",
    "    plt.colorbar().set_label('% of wear',fontsize=12 ,rotation=90)\n",
    "    \n",
    "    plt.subplot\n",
    "    plt.title(\"Monte Carlo: Pearson_corr\")\n",
    "    plt.figure(figsize=(12,6))\n",
    "    plt.scatter(abs_top_n_together_matrix_x[trials][x1], abs_top_n_together_matrix_x[trials][x2],c=target_train_vector[0], cmap=\"viridis\")\n",
    "    plt.xlabel('Feature number %s' % x1 ,fontsize=12)\n",
    "    plt.ylabel('Feature number %s' % x2 ,fontsize=12)\n",
    "    plt.colorbar().set_label('% of wear',fontsize=12 ,rotation=90)\n",
    "    \n",
    "    plt.subplot\n",
    "    plt.title(\"Weighted_corr\")\n",
    "    plt.figure(figsize=(12,6))\n",
    "    plt.scatter(abs_top_n_together_matrix_w[x1], abs_top_n_together_matrix_w[x2],c=target_train_vector[0], cmap=\"viridis\")\n",
    "    plt.xlabel('Feature number %s' % x1 ,fontsize=12)\n",
    "    plt.ylabel('Feature number %s' % x2 ,fontsize=12)\n",
    "    plt.colorbar().set_label('% of wear',fontsize=12 ,rotation=90)\n",
    "interact(Compare_two,trials=widgets.IntSlider(min=0, max=99, step=1))"
   ]
  },
  {
   "cell_type": "code",
   "execution_count": 84,
   "metadata": {},
   "outputs": [],
   "source": [
    "train_test1.close()\n",
    "amp_fft1.close()\n",
    "freq_fft1.close()\n",
    "amp_dft2.close()\n",
    "freq_dft2.close()\n",
    "ph_dft2.close()\n",
    "u_a_dft2.close()\n",
    "u_ap_dft2.close()\n",
    "u_pp_dft.close()    \n"
   ]
  },
  {
   "cell_type": "markdown",
   "metadata": {},
   "source": [
    "### References:\n",
    "\n",
    "[1]  PTB, ZeMA, - Deep dive into the ZeMA machine learning (ppt), January 2019\n",
    "\n",
    "[2]  https://www.nti-audio.com/en/support/know-how/fast-fourier-transform-fft\n",
    "\n",
    "[3]  http://www.sthda.com/english/wiki/correlation-test-between-two-variables-in-r\n",
    "\n",
    "[4]  https://en.wikipedia.org/wiki/Pearson_correlation_coefficient\n",
    "\n",
    "[5]  Edouard Duchesnay, Tommy Löfstedt, - Statistics and Machine Learning in Python, March 2018\n",
    "\n",
    "[6]  https://ipywidgets.readthedocs.io/en/latest/examples/Using%20Interact.html\n",
    "\n",
    "[7]  Evaluation of measurement data — Supplement 1 to the “Guide to the expression of uncertainty in measurement” — Propagation      of distributions using a Monte Carlo method,  JCGM 101:2008 \n",
    "\n",
    "[8]  S Eichstädt (PTB) - Material for a Monte Carlo Uncertainty workshop with Jupyter notebooks https://github.com/eichstaedtPTB/MonteCarloHandsOn                   \n",
    "\n"
   ]
  }
 ],
 "metadata": {
  "kernelspec": {
   "display_name": "Python 3",
   "language": "python",
   "name": "python3"
  },
  "language_info": {
   "codemirror_mode": {
    "name": "ipython",
    "version": 3
   },
   "file_extension": ".py",
   "mimetype": "text/x-python",
   "name": "python",
   "nbconvert_exporter": "python",
   "pygments_lexer": "ipython3",
   "version": "3.7.3"
  }
 },
 "nbformat": 4,
 "nbformat_minor": 2
}
